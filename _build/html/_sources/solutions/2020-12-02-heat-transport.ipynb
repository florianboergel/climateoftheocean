{
 "cells": [
  {
   "cell_type": "markdown",
   "metadata": {},
   "source": [
    "# Lecture 6, Heat transports\n",
    "\n",
    "> Two-dimensional advection-diffusion of heat\n"
   ]
  },
  {
   "cell_type": "code",
   "execution_count": 1,
   "metadata": {},
   "outputs": [],
   "source": [
    "import xarray as xr\n",
    "import numpy as np\n",
    "import matplotlib.pyplot as plt\n",
    "\n",
    "from ipywidgets import interact, interactive, fixed, interact_manual\n",
    "import ipywidgets as widgets\n",
    "\n",
    "from IPython.display import HTML\n",
    "from IPython.display import display"
   ]
  },
  {
   "cell_type": "markdown",
   "metadata": {},
   "source": [
    "# 1) Background: two-dimensional advection-diffusion\n",
    "\n",
    "## 1.1) The two-dimensional advection-diffusion equation\n",
    "Recall from **Lecture 5** that the one-dimensional advection-diffusion equation is written as\n",
    "\n",
    "$$\\frac{\\partial T(x,t)}{\\partial t} = -U \\frac{\\partial T}{\\partial x} + \\kappa \\frac{\\partial^{2} T}{\\partial x^{2}},$$\n",
    "\n",
    "where $T(x, t)$ is the temperature, $U$ is a constant advective velocity and $\\kappa$ is the diffusivity.\n",
    "\n",
    "The two-dimensional advection diffusion equation simply adds advection and diffusion operators acting in a second dimensions $y$ (orthogonal to $x$). \n",
    "\n",
    "$$\\frac{\\partial T(x,y,t)}{\\partial t} = u(x,y) \\frac{\\partial T}{\\partial x} + v(x,y) \\frac{\\partial T}{\\partial y} + \\kappa \\left( \\frac{\\partial^{2} T}{\\partial x^{2}} + \\frac{\\partial^{2} T}{\\partial y^{2}} \\right),$$\n",
    "\n",
    "where $\\vec{u}(x,y) = (u, v) = u\\,\\mathbf{\\hat{x}} + v\\,\\mathbf{\\hat{y}}$ is a velocity vector field.\n",
    "\n",
    "Throughout the rest of the Climate Modelling module, we will consider $x$ to be the *longitundinal* direction (positive from west to east) and $y$ to the be the *latitudinal* direction (positive from south to north)."
   ]
  },
  {
   "cell_type": "markdown",
   "metadata": {},
   "source": [
    "## 1.2) Multivariable shorthand notation\n",
    "\n",
    "Conventionally, the two-dimensional advection-diffusion equation is written more succintly as\n",
    "\n",
    "$$\\frac{\\partial T(x,y,t)}{\\partial t} = - \\vec{u} \\cdot \\nabla T + \\kappa \\nabla^{2} T,$$\n",
    "\n",
    "using the following shorthand notation.\n",
    "\n",
    "The **gradient** operator is defined as \n",
    "\n",
    "$\\nabla \\equiv (\\frac{\\partial}{\\partial x}, \\frac{\\partial }{\\partial y})$\n",
    "\n",
    "such that\n",
    "\n",
    "$\\nabla T = (\\frac{\\partial T}{\\partial x}, \\frac{\\partial T}{\\partial y})$ and \n",
    "\n",
    "$\\vec{u} \\cdot \\nabla T = (u, v) \\cdot (\\frac{\\partial T}{\\partial x}, \\frac{\\partial T}{\\partial y}) = u \\frac{\\partial T}{\\partial x} + v\\frac{\\partial T}{\\partial y}.$\n",
    "\n",
    "The **Laplacian** operator $\\nabla^{2}$ (sometimes denoted $\\Delta$) is defined as \n",
    "\n",
    "$\\nabla^{2} = \\frac{\\partial^{2}}{\\partial x^{2}} + \\frac{\\partial^{2}}{\\partial y^{2}}$\n",
    "\n",
    "such that\n",
    "\n",
    "$\\nabla^{2} T = \\frac{\\partial^{2} T}{\\partial x^{2}} + \\frac{\\partial^{2} T}{\\partial y^{2}}.$\n",
    "\n",
    "The **divergence** operator is defined as $\\nabla \\cdot [\\quad]$, such that\n",
    "\n",
    "$\\nabla \\cdot \\vec{u} = \\left(\\frac{\\partial}{\\partial x}, \\frac{\\partial}{\\partial x} \\right) \\cdot (u,v) = \\frac{\\partial u}{\\partial x} + \\frac{\\partial v}{\\partial y}.$\n",
    "\n",
    "**Note:** Since seawater is largely incompressible, we can approximate ocean currents as a *non-divergent flow*, with $\\nabla \\cdot \\vec{u} = \\frac{\\partial u}{\\partial x} + \\frac{\\partial v}{\\partial y} = 0$. Among other implications, this allows us to write:\n",
    "\n",
    "\\begin{align}\n",
    "\\vec{u} \\cdot \\nabla T&=\n",
    "u\\frac{\\partial T(x,y,t)}{\\partial x} + v\\frac{\\partial T(x,y,t)}{\\partial y}\\newline &=\n",
    "u\\frac{\\partial T}{\\partial x} + v\\frac{\\partial T}{\\partial y} + T\\left(\\frac{\\partial u}{\\partial x} + \\frac{\\partial v}{\\partial y}\\right)\\newline &=\n",
    "\\left( u\\frac{\\partial T}{\\partial x} + T\\frac{\\partial u}{\\partial x} \\right) +\n",
    "\\left( v\\frac{\\partial T}{\\partial y} + \\frac{\\partial v}{\\partial y} \\right)\n",
    "\\newline &=\n",
    "\\frac{\\partial (uT)}{\\partial x} + \\frac{\\partial (vT)}{\\partial x}\\newline &=\n",
    "\\nabla \\cdot (\\vec{u}T)\n",
    "\\end{align}\n",
    "\n",
    "using the product rule (separately in both $x$ and $y$).\n"
   ]
  },
  {
   "cell_type": "markdown",
   "metadata": {},
   "source": [
    "##### 1.3) The flux-form two-dimensional advection-diffusion equation\n",
    "\n",
    "This lets us finally re-write the two-dimensional advection-diffusion equation as:\n",
    "\n",
    "$\\frac{\\partial T}{\\partial t} = - \\nabla \\cdot (\\vec{u}T) + \\kappa \\nabla^{2} T$\n",
    "\n",
    "which is the form we will use in our numerical algorithm below."
   ]
  },
  {
   "cell_type": "markdown",
   "metadata": {},
   "source": [
    "# 2) Numerical implementation\n",
    "\n",
    "# 2.1) Discretizing advection in two dimensions\n",
    "\n",
    "In Lecture XX we saw that in one dimension we can discretize a first-partial derivative in space using the *centered finite difference*\n",
    "\n",
    "$$\\frac{\\partial T(x_{i}, t_{n})}{\\partial x} \\approx \\frac{T_{i+1}^{n} - T_{i-1}^{n}}{2 \\Delta x}.$$\n",
    "\n",
    "In two dimensions, we discretize the partial derivative the exact same way, except that we also need to keep track of the cell index $j$ in the $y$ dimension:\n",
    "\n",
    "$$\\frac{\\partial T(x_{i}, y_{j}, t_{n})}{\\partial x} \\approx \\frac{T_{i+1,\\, j}^{n} - T_{i-1,\\,j}^{n}}{2 \\Delta x}.$$\n",
    "\n",
    "The *x-gradient kernel* below, is shown below, and is reminiscent of the *edge-detection* or *sharpening* kernels used in image processing and machine learning:"
   ]
  },
  {
   "cell_type": "code",
   "execution_count": 2,
   "metadata": {},
   "outputs": [
    {
     "data": {
      "image/png": "[encoded data removed]",
      "text/plain": [
       "<Figure size 640x480 with 1 Axes>"
      ]
     },
     "metadata": {},
     "output_type": "display_data"
    }
   ],
   "source": [
    "plt.imshow([[-1,0,1]], cmap=plt.cm.RdBu_r)\n",
    "plt.xticks([0,1,2], labels=[-1,0,1]);\n",
    "plt.yticks([]);"
   ]
  },
  {
   "cell_type": "markdown",
   "metadata": {},
   "source": [
    "The first-order partial derivative in $y$ is similarly discretized as:\n",
    "\n",
    "$$\\frac{\\partial T(x_{i}, y_{j}, t_{n})}{\\partial y} \\approx \\frac{T_{i,\\, j+1}^{n} - T_{i,\\,j-1}^{n}}{2 \\Delta y}.$$\n",
    "\n",
    "Its kernel is shown below."
   ]
  },
  {
   "cell_type": "code",
   "execution_count": 3,
   "metadata": {},
   "outputs": [
    {
     "data": {
      "image/png": "[encoded data removed]",
      "text/plain": [
       "<Figure size 640x480 with 1 Axes>"
      ]
     },
     "metadata": {},
     "output_type": "display_data"
    }
   ],
   "source": [
    "plt.imshow([[-1,-1],[0,0],[1,1]], cmap=plt.cm.RdBu);\n",
    "plt.xticks([]);\n",
    "plt.yticks([0,1,2], labels=[1,0,-1]);"
   ]
  },
  {
   "cell_type": "markdown",
   "metadata": {},
   "source": [
    "Now that we have discretized the two derivate terms, we can write out the *advective tendency* for computing $T_{i, j, n+1}$ as\n",
    "\n",
    "$$u\\frac{\\partial T}{\\partial x} + v\\frac{\\partial T}{\\partial y} \\approx u_{i,\\, j}^{n} \\frac{T_{i,\\, j+1}^{n} - T_{i,\\,j-1}^{n}}{2 \\Delta y} + v_{i,\\, j}^{n} \\frac{T_{i,\\, j+1}^{n} - T_{i,\\,j-1}^{n}}{2 \\Delta y}.$$\n",
    "\n",
    "We implement this as a the `advect` function. This computes the advective tendency for the $(i,j)$ grid cell."
   ]
  },
  {
   "cell_type": "code",
   "execution_count": 4,
   "metadata": {},
   "outputs": [],
   "source": [
    "xkernel = np.zeros((1,3))\n",
    "xkernel[0, :] = np.array([-1,0,1])"
   ]
  },
  {
   "cell_type": "code",
   "execution_count": 5,
   "metadata": {},
   "outputs": [],
   "source": [
    "ykernel = np.zeros((3,1))\n",
    "ykernel[:, 0] = np.array([-1,0,1])"
   ]
  },
  {
   "cell_type": "code",
   "execution_count": 6,
   "metadata": {},
   "outputs": [],
   "source": [
    "class OceanModel:\n",
    "    \n",
    "    def __init_(self,T, u, v, deltax, deltay):\n",
    "        self.T = [T] \n",
    "        self.u = u\n",
    "        self.v = v\n",
    "        self.deltax = deltax\n",
    "        self.deltay = deltay\n",
    "        self.j = np.arange(0, self.T[0].shape[0])\n",
    "        self.i = np.arange(0, self.T[0].shape[1])\n",
    "        \n",
    "    def advect(self, T):\n",
    "        T_advect = np.zeros((self.j.size, self.i.size))\n",
    "        \n",
    "        for j in range(1, T_advect.shape[0] - 1):\n",
    "            for i in range(1, T_advect.shape[1] - 1):\n",
    "                T_advect[j, i] = -(self.u[j, i] * np.sum(xkernel[0, :] * T[j, i-1 : i + 2])/(2*self.deltax) +\n",
    "                                   self.v[j, i] * np.sum(ykernel[:, 0] * T[j-1:j+2, i])/(2*self.deltay))\n",
    "        return T_advect    "
   ]
  },
  {
   "cell_type": "markdown",
   "metadata": {},
   "source": [
    "## 2.2) Discretizing diffusion in two dimensions\n",
    "\n",
    "Just as with advection, the process for discretizing the diffusion operators effectively consists of repeating the one-dimensional process for $x$ in a second dimension $y$, separately:\n",
    "\n",
    "$$\\kappa \\left( \\frac{\\partial^{2} T}{\\partial x^{2}} + \\frac{\\partial^{2} T}{\\partial y^{2}} \\right) = \\kappa \\left(\n",
    "\\frac{T_{i+1,\\;j}^{n} - 2T_{i,\\;j}^{n} + T_{i-1,\\;j}^{n}}{\\left( \\Delta x \\right)^{2}} +\n",
    "\\frac{T_{i,\\;j+1}^{n} - 2T_{i,\\;j}^{n} + T_{i,\\;j-1}^{n}}{\\left( \\Delta y \\right)^{2}}\n",
    "\\right)$$\n",
    "\n",
    "The corresponding $x$ and $y$ second-derivative kernels are shown below:"
   ]
  },
  {
   "cell_type": "code",
   "execution_count": 7,
   "metadata": {},
   "outputs": [
    {
     "data": {
      "image/png": "[encoded data removed]",
      "text/plain": [
       "<Figure size 640x480 with 1 Axes>"
      ]
     },
     "metadata": {},
     "output_type": "display_data"
    }
   ],
   "source": [
    "plt.imshow([[1,1],[0,0],[1,1]], cmap=plt.cm.RdBu_r);\n",
    "plt.xticks([]);\n",
    "plt.yticks([0,1,2], labels=[1,-1,1]);"
   ]
  },
  {
   "cell_type": "code",
   "execution_count": 8,
   "metadata": {},
   "outputs": [
    {
     "data": {
      "image/png": "[encoded data removed]",
      "text/plain": [
       "<Figure size 640x480 with 1 Axes>"
      ]
     },
     "metadata": {},
     "output_type": "display_data"
    }
   ],
   "source": [
    "plt.imshow([[1,0,1]], cmap=plt.cm.RdBu_r);\n",
    "plt.xticks([0,1,2], labels=[1,-1,1]);\n",
    "plt.yticks([]);"
   ]
  },
  {
   "cell_type": "code",
   "execution_count": 9,
   "metadata": {},
   "outputs": [],
   "source": [
    "xkernel_diff = np.zeros((1, 3))\n",
    "xkernel_diff[0, :] = np.array([1,-2,1])"
   ]
  },
  {
   "cell_type": "code",
   "execution_count": 10,
   "metadata": {},
   "outputs": [],
   "source": [
    "ykernel_diff = np.zeros((3,1))\n",
    "ykernel_diff[:, 0] = np.array([1,-2,1])"
   ]
  },
  {
   "cell_type": "markdown",
   "metadata": {},
   "source": [
    "Just as we did with advection, we implement a diffuse function using multiple dispatch:\n",
    "\n"
   ]
  },
  {
   "cell_type": "code",
   "execution_count": 11,
   "metadata": {},
   "outputs": [],
   "source": [
    "class OceanModel():\n",
    "    \n",
    "    def __init__(self, T, deltat, windfield, grid, kappa):\n",
    "        \n",
    "        self.T = [T]\n",
    "        self.u = windfield.u\n",
    "        self.v = windfield.v\n",
    "        self.deltay = grid.deltay\n",
    "        self.deltax = grid.deltax\n",
    "        self.deltat = deltat\n",
    "        self.kappa = kappa\n",
    "        self.i = np.arange(0, self.T[0].shape[1])\n",
    "        self.j = np.arange(0, self.T[0].shape[0])\n",
    "        self.t = [0]\n",
    "        self.diffuse_out = []\n",
    "        self.advect_out = []\n",
    "        self.t_ = []\n",
    "\n",
    "    def advect(self, T):\n",
    "        T_advect = np.zeros((self.j.size, self.i.size))\n",
    "        for j in range(1, T_advect.shape[0] - 1):\n",
    "            for i in range(1, T_advect.shape[1] - 1):\n",
    "                T_advect[j, i] = -(self.u[j, i] * np.sum(xkernel[0, :] * T[j, i-1:i+2])/(2*self.deltax) + \\\n",
    "                                   self.v[j, i] * np.sum(ykernel[:, 0] * T[j-1:j+2, i])/(2*self.deltay))\n",
    "        return T_advect\n",
    "                \n",
    "    def diffuse(self, T):\n",
    "        T_diffuse= np.zeros((self.j.size, self.i.size))\n",
    "        for j in range(1, T_diffuse.shape[0] - 1):\n",
    "            for i in range(1, T_diffuse.shape[1] - 1):\n",
    "                T_diffuse[j, i] = self.kappa*(np.sum(xkernel_diff[0, :] * T[j, i-1:i+2])/(self.deltax**2) + \\\n",
    "                                              np.sum(ykernel_diff[:, 0] * T[j-1:j+2, i])/(self.deltay**2))      \n",
    "        return T_diffuse"
   ]
  },
  {
   "cell_type": "markdown",
   "metadata": {},
   "source": [
    "## 2.3) No-flux boundary conditions\n",
    "\n",
    "We want to impose the no-flux boundary conditions, which states that\n",
    "\n",
    "$$u\\frac{\\partial T}{\\partial x} = \\kappa \\frac{\\partial T}{\\partial x} = 0$$ at $x$ boundaries and \n",
    "\n",
    "$$v\\frac{\\partial T}{\\partial y} = \\kappa \\frac{\\partial T}{\\partial y} = 0$$ at the $y$ boundaries.\n",
    "\n",
    "To impose this, we treat $i=1$ and $i=N_{x}$ as *ghost cells*, which do not do anything expect help us impose these boundaries conditions. Discretely, the boundary fluxes between $i=1$ and $i=2$ vanish if\n",
    "\n",
    "$$\\dfrac{T_{2,\\,j}^{n} -T_{1,\\,j}^{n}}{\\Delta x} = 0$$ or \n",
    "\n",
    "$$T_{1,\\,j}^{n} = T_{2,\\,j}^{n}.$$\n",
    "\n",
    "Thus, we can implement the boundary conditions by updating the temperature of the ghost cells to match their interior-point neighbors:"
   ]
  },
  {
   "cell_type": "code",
   "execution_count": 12,
   "metadata": {},
   "outputs": [],
   "source": [
    "def update_ghostcells(var):\n",
    "    var[0, :] = var[1, :];\n",
    "    var[-1, :] = var[-2, :]\n",
    "    var[:, 0] = var[:, 1]\n",
    "    var[:, -1] = var[:, -2]\n",
    "    return var"
   ]
  },
  {
   "cell_type": "code",
   "execution_count": 13,
   "metadata": {},
   "outputs": [
    {
     "data": {
      "text/plain": [
       "<matplotlib.colorbar.Colorbar at 0x145236aa0>"
      ]
     },
     "execution_count": 13,
     "metadata": {},
     "output_type": "execute_result"
    },
    {
     "data": {
      "image/png": "[encoded data removed]",
      "text/plain": [
       "<Figure size 640x480 with 2 Axes>"
      ]
     },
     "metadata": {},
     "output_type": "display_data"
    }
   ],
   "source": [
    "B = np.random.rand(6,6)\n",
    "plt.pcolor(B)\n",
    "plt.colorbar()"
   ]
  },
  {
   "cell_type": "code",
   "execution_count": 14,
   "metadata": {},
   "outputs": [],
   "source": [
    "B = update_ghostcells(B)"
   ]
  },
  {
   "cell_type": "code",
   "execution_count": 15,
   "metadata": {},
   "outputs": [
    {
     "data": {
      "text/plain": [
       "<matplotlib.colorbar.Colorbar at 0x14531d060>"
      ]
     },
     "execution_count": 15,
     "metadata": {},
     "output_type": "execute_result"
    },
    {
     "data": {
      "image/png": "[encoded data removed]",
      "text/plain": [
       "<Figure size 640x480 with 2 Axes>"
      ]
     },
     "metadata": {},
     "output_type": "display_data"
    }
   ],
   "source": [
    "plt.imshow(B)\n",
    "plt.colorbar()"
   ]
  },
  {
   "cell_type": "markdown",
   "metadata": {},
   "source": [
    "## 2.4) Timestepping"
   ]
  },
  {
   "cell_type": "code",
   "execution_count": 16,
   "metadata": {},
   "outputs": [],
   "source": [
    "class OceanModel():\n",
    "    \n",
    "    def __init__(self, T, deltat, windfield, grid, kappa):\n",
    "        \n",
    "        self.T = [T]\n",
    "        self.u = windfield.u\n",
    "        self.v = windfield.v\n",
    "        self.deltay = grid.deltay\n",
    "        self.deltax = grid.deltax\n",
    "        self.deltat = deltat\n",
    "        self.kappa = kappa\n",
    "        self.i = np.arange(0, self.T[0].shape[1])\n",
    "        self.j = np.arange(0, self.T[0].shape[0])\n",
    "        self.t = [0]\n",
    "        self.diffuse_out = []\n",
    "        self.advect_out = []\n",
    "        self.t_ = []\n",
    "\n",
    "    def advect(self, T):\n",
    "        T_advect = np.zeros((self.j.size, self.i.size))\n",
    "        for j in range(1, T_advect.shape[0] - 1):\n",
    "            for i in range(1, T_advect.shape[1] - 1):\n",
    "                T_advect[j, i] = -(self.u[j, i] * np.sum(xkernel[0, :] * T[j, i-1:i+2])/(2*self.deltax) + \\\n",
    "                                   self.v[j, i] * np.sum(ykernel[:, 0] * T[j-1:j+2, i])/(2*self.deltax))\n",
    "        return T_advect\n",
    "                \n",
    "    def diffuse(self, T):\n",
    "        T_diffuse= np.zeros((self.j.size, self.i.size))\n",
    "        for j in range(1, T_diffuse.shape[0] - 1):\n",
    "            for i in range(1, T_diffuse.shape[1] - 1):\n",
    "                T_diffuse[j, i] = self.kappa*(np.sum(xkernel_diff[0, :] * T[j, i-1:i+2])/(self.deltax**2) + \\\n",
    "                                              np.sum(ykernel_diff[:, 0] * T[j-1:j+2, i])/(self.deltay**2))      \n",
    "        return T_diffuse\n",
    "    \n",
    "    def timestep(self):\n",
    "        T_ = self.T[-1].copy()\n",
    "        T_ = update_ghostcells(T_)\n",
    "        tendencies = self.advect(self.T[-1]) + self.diffuse(self.T[-1])\n",
    "        T_ = self.deltat * tendencies + T_\n",
    "        self.T.append(T_)\n",
    "        self.t.append(self.t[-1] + self.deltat)"
   ]
  },
  {
   "cell_type": "code",
   "execution_count": 17,
   "metadata": {},
   "outputs": [],
   "source": [
    "class grid:   \n",
    "    \"\"\" Creates grid for ocean model\n",
    "    Args:\n",
    "    -------\n",
    "    \n",
    "    N: Number of grid points (NxN)\n",
    "    L: Length of domain\n",
    "    \"\"\"\n",
    "    def __init__(self, N, L):\n",
    "        self.deltax = L / N\n",
    "        self.deltay = L / N\n",
    "        self.xs = np.arange(0-self.deltax/2, L+self.deltax/2, self.deltax) \n",
    "        self.ys = np.arange(-L-self.deltay/2, L+self.deltay/2, self.deltay)   \n",
    "\n",
    "        self.N = N\n",
    "        self.L = L\n",
    "        self.Nx = len(self.xs)\n",
    "        self.Ny = len(self.ys)\n",
    "        self.grid, _= np.meshgrid(self.ys, self.xs, sparse=False, indexing='ij')\n",
    "        \n",
    "class windfield:\n",
    "    \"\"\"Calculates wind velocity\n",
    "    \n",
    "    Args:\n",
    "    ------\n",
    "    Grid: class grid()\n",
    "    option: zero, or single gyre\n",
    "    \n",
    "    \"\"\"\n",
    "    \n",
    "    def __init__(self, grid, option = \"zero\"):\n",
    "        if option == \"zero\":\n",
    "            self.u = np.zeros((grid.grid.shape))\n",
    "            self.v = np.zeros((grid.grid.shape))\n",
    "        if option == \"single_gyre\":\n",
    "            u, v = PointVortex(my_grid)\n",
    "            self.u = u\n",
    "            self.v = v\n",
    "            "
   ]
  },
  {
   "cell_type": "markdown",
   "metadata": {},
   "source": [
    "Initialize $10x10$ grid domain with $L=6000000m$ and a windfield, where all velocities are set to zero.\n",
    "This should result in diffusion only.\n",
    "\n",
    "Initialize temperature field with rectangular non-zero box."
   ]
  },
  {
   "cell_type": "code",
   "execution_count": 18,
   "metadata": {},
   "outputs": [],
   "source": [
    "my_grid = grid(N = 11, L = 6e6)\n",
    "my_wind = windfield(my_grid, option = \"zero\")\n",
    "my_temp = np.zeros((my_grid.grid.shape)) \n",
    "my_temp[9:13, 4:8] = 1"
   ]
  },
  {
   "cell_type": "code",
   "execution_count": 19,
   "metadata": {},
   "outputs": [
    {
     "data": {
      "text/plain": [
       "(23, 12)"
      ]
     },
     "execution_count": 19,
     "metadata": {},
     "output_type": "execute_result"
    }
   ],
   "source": [
    "my_grid.grid.shape"
   ]
  },
  {
   "cell_type": "code",
   "execution_count": 20,
   "metadata": {},
   "outputs": [
    {
     "data": {
      "image/png": "[encoded data removed]",
      "text/plain": [
       "<Figure size 640x480 with 2 Axes>"
      ]
     },
     "metadata": {},
     "output_type": "display_data"
    }
   ],
   "source": [
    "plt.pcolor(my_grid.xs, my_grid.ys, my_temp)\n",
    "plt.colorbar(label = \"Temperature in °C\");\n",
    "plt.ylabel(\"Kilometers Latitude\");\n",
    "plt.xlabel(\"Kilometers Longitude\");"
   ]
  },
  {
   "cell_type": "code",
   "execution_count": 21,
   "metadata": {},
   "outputs": [],
   "source": [
    "deltat = 12*60*60 # 12 Hours"
   ]
  },
  {
   "cell_type": "code",
   "execution_count": 22,
   "metadata": {},
   "outputs": [],
   "source": [
    "def plot_func(steps, temp, deltat, windfield, grid, kappa, anomaly = False):\n",
    "    my_model = OceanModel(T=temp,\n",
    "                      deltat=deltat, \n",
    "                      windfield=windfield, \n",
    "                      grid=grid, \n",
    "                      kappa = kappa)\n",
    "    for step in range(steps):\n",
    "        my_model.timestep()   \n",
    "    plt.figure(figsize=(8,8))\n",
    "    lon, lat = np.meshgrid(grid.xs, grid.ys)\n",
    "    if anomaly == True:\n",
    "        plt.pcolor(my_grid.xs, my_grid.ys, my_model.T[-1] - my_model.T[-2], cmap = plt.cm.RdBu_r,\n",
    "                  vmin = -0.001, vmax = 0.001)\n",
    "    else:\n",
    "        plt.pcolor(my_grid.xs, my_grid.ys, my_model.T[-1], vmin = 0, vmax = 1)\n",
    "    plt.quiver(lon, lat, windfield.u, windfield.v)\n",
    "    plt.colorbar(label = \"Temperature in °C\");\n",
    "    plt.ylabel(\"Kilometers Latitude\");\n",
    "    plt.xlabel(\"Kilometers Longitude\"); \n",
    "    plt.title(\"Time: {} days\".format(int(step/2)))\n",
    "    plt.show()"
   ]
  },
  {
   "cell_type": "code",
   "execution_count": 23,
   "metadata": {},
   "outputs": [
    {
     "data": {
      "application/vnd.jupyter.widget-view+json": {
       "model_id": "24d54d8d428a4a2cb776bda587ac1ecb",
       "version_major": 2,
       "version_minor": 0
      },
      "text/plain": [
       "interactive(children=(IntSlider(value=2, description='Timesteps', max=10000, min=1), Checkbox(value=False, des…"
      ]
     },
     "metadata": {},
     "output_type": "display_data"
    }
   ],
   "source": [
    "interact(plot_func, \n",
    "         temp = fixed(my_temp),\n",
    "         deltat = fixed(deltat),\n",
    "         windfield = fixed(my_wind),\n",
    "         grid = fixed(my_grid),\n",
    "         kappa = fixed(1e4),\n",
    "         anomaly = widgets.Checkbox(description = \"Anomaly\", value=False),\n",
    "         steps = widgets.IntSlider(description=\"Timesteps\", value = 2, min = 1, max = 10000, step = 1));"
   ]
  },
  {
   "cell_type": "markdown",
   "metadata": {},
   "source": [
    "## Create single gyre windfield"
   ]
  },
  {
   "cell_type": "code",
   "execution_count": 23,
   "metadata": {},
   "outputs": [],
   "source": [
    "def diagnose_velocities(stream, G):    \n",
    "    dx = np.zeros((G.grid.shape))\n",
    "    dy = np.zeros((G.grid.shape))\n",
    "    \n",
    "    dx = (stream[:, 1:] - stream[:, 0:-1])/G.deltax\n",
    "    dy = (stream[1:, :] - stream[0:-1, :])/G.deltay\n",
    "    \n",
    "    u = np.zeros((G.grid.shape))\n",
    "    v = np.zeros((G.grid.shape))\n",
    "    \n",
    "    u = 0.5*(dy[:, 1:] + dy[:, 0:-1])\n",
    "    v = -0.5*(dx[1:, :] + dx[0:-1, :])\n",
    "    \n",
    "    return u, v"
   ]
  },
  {
   "cell_type": "code",
   "execution_count": 24,
   "metadata": {},
   "outputs": [],
   "source": [
    "def impose_no_flux(u, v):\n",
    "    u[0, :]  = 0; v[0, :] = 0;\n",
    "    u[-1,:]  = 0; v[-1,:] = 0;\n",
    "    u[:, 0]  = 0; v[:, 0] = 0;\n",
    "    u[:,-1]  = 0; v[:,-1] = 0;\n",
    "    \n",
    "    return u, v"
   ]
  },
  {
   "cell_type": "code",
   "execution_count": 25,
   "metadata": {},
   "outputs": [],
   "source": [
    "def PointVortex(G, omega = 0.6, a = 0.2, x0=0.5, y0 = 0.):\n",
    "    x = np.arange(-G.deltax/G.L, 1 + G.deltax / G.L, G.deltax / G.L).reshape(1, -1)\n",
    "    y = np.arange(-1-G.deltay/G.L, 1+ G.deltay / G.L, G.deltay / G.L).reshape(-1, 1)\n",
    "    \n",
    "#     x = x[:,:-1]    \n",
    "    \n",
    "    r = np.sqrt((y - y0)**2 + (x - x0)**2)\n",
    "    stream = -omega/4*r**2 \n",
    "    stream[r > a] =  -omega*a**2/4*(1. + 2*np.log(r[r > a]/a))\n",
    "    \n",
    "    u, v =  diagnose_velocities(stream, G)\n",
    "    u, v = impose_no_flux(u, v) \n",
    "    u = u * G.L; v = v * G.L\n",
    "    return u, v"
   ]
  },
  {
   "cell_type": "code",
   "execution_count": 26,
   "metadata": {},
   "outputs": [
    {
     "data": {
      "text/plain": [
       "<matplotlib.quiver.Quiver at 0x7f417e8e3fd0>"
      ]
     },
     "execution_count": 26,
     "metadata": {},
     "output_type": "execute_result"
    },
    {
     "data": {
      "image/png": "[encoded data removed]",
      "text/plain": [
       "<Figure size 432x288 with 1 Axes>"
      ]
     },
     "metadata": {
      "needs_background": "light"
     },
     "output_type": "display_data"
    }
   ],
   "source": [
    "my_wind = windfield(my_grid, option=\"single_gyre\")\n",
    "plt.quiver(my_wind.u, my_wind.v)"
   ]
  },
  {
   "cell_type": "code",
   "execution_count": 39,
   "metadata": {},
   "outputs": [],
   "source": [
    "my_temp = np.zeros((my_grid.grid.shape)) \n",
    "my_temp[8:13, :] = 1"
   ]
  },
  {
   "cell_type": "code",
   "execution_count": 40,
   "metadata": {},
   "outputs": [
    {
     "data": {
      "text/plain": [
       "<matplotlib.collections.PolyCollection at 0x7f417e4ed130>"
      ]
     },
     "execution_count": 40,
     "metadata": {},
     "output_type": "execute_result"
    },
    {
     "data": {
      "image/png": "[encoded data removed]",
      "text/plain": [
       "<Figure size 432x288 with 1 Axes>"
      ]
     },
     "metadata": {
      "needs_background": "light"
     },
     "output_type": "display_data"
    }
   ],
   "source": [
    "plt.pcolor(my_temp)"
   ]
  },
  {
   "cell_type": "code",
   "execution_count": 41,
   "metadata": {},
   "outputs": [],
   "source": [
    "my_model = OceanModel(T=my_temp,\n",
    "                      deltat=deltat, \n",
    "                      windfield=my_wind, \n",
    "                      grid=my_grid, \n",
    "                      kappa = 1e4)"
   ]
  },
  {
   "cell_type": "code",
   "execution_count": 42,
   "metadata": {},
   "outputs": [
    {
     "data": {
      "application/vnd.jupyter.widget-view+json": {
       "model_id": "d7d61d54c0594eca92d31d425686eb6e",
       "version_major": 2,
       "version_minor": 0
      },
      "text/plain": [
       "interactive(children=(IntSlider(value=1, description='Timesteps', max=1000, min=1), IntSlider(value=10000, des…"
      ]
     },
     "metadata": {},
     "output_type": "display_data"
    }
   ],
   "source": [
    "interact(plot_func, \n",
    "         temp = fixed(my_temp),\n",
    "         deltat = fixed(deltat),\n",
    "         windfield = fixed(my_wind),\n",
    "         grid = fixed(my_grid),\n",
    "         kappa = widgets.IntSlider(description=\"kappa\", value = 1e4, min=1e3, max = 1e5, step = 100),\n",
    "         anomaly = widgets.Checkbox(description = \"Anomaly\", value=False),\n",
    "         steps = widgets.IntSlider(description=\"Timesteps\", value = 1, min = 1, max = 1000, step = 1));"
   ]
  },
  {
   "cell_type": "markdown",
   "metadata": {},
   "source": [
    "ToDo add two gyre"
   ]
  },
  {
   "cell_type": "code",
   "execution_count": null,
   "metadata": {},
   "outputs": [],
   "source": []
  },
  {
   "cell_type": "code",
   "execution_count": null,
   "metadata": {},
   "outputs": [],
   "source": []
  },
  {
   "cell_type": "code",
   "execution_count": null,
   "metadata": {},
   "outputs": [],
   "source": []
  },
  {
   "cell_type": "code",
   "execution_count": null,
   "metadata": {},
   "outputs": [],
   "source": []
  },
  {
   "cell_type": "code",
   "execution_count": null,
   "metadata": {},
   "outputs": [],
   "source": [
    "u, v = PointVortex(my_grid)\n",
    "u, v = u[1:], v[1:]"
   ]
  },
  {
   "cell_type": "code",
   "execution_count": null,
   "metadata": {},
   "outputs": [],
   "source": [
    "my_grid.grid.shape"
   ]
  },
  {
   "cell_type": "code",
   "execution_count": null,
   "metadata": {},
   "outputs": [],
   "source": [
    "print(u.shape)"
   ]
  },
  {
   "cell_type": "code",
   "execution_count": null,
   "metadata": {},
   "outputs": [],
   "source": [
    "epsilon = 0.05\n",
    "xpsi = np.arange(-deltax, 1+deltax, deltax)\n",
    "ypsi = np.arange(-1-deltay, 1+deltay, deltay)\n",
    "\n",
    "def psihat(x, y):\n",
    "    psi = np.zeros((x.size, y.size))\n",
    "    np.psi\n",
    "    "
   ]
  },
  {
   "cell_type": "code",
   "execution_count": null,
   "metadata": {},
   "outputs": [],
   "source": [
    "psi = np.zeros((ypsi.size, xpsi.size))\n",
    "\n",
    "for i, x in enumerate(xpsi):\n",
    "    for j, y in enumerate(ypsi):\n",
    "        psi[j, i] = np.pi * np.sin(np.pi * y) * (\n",
    "        1 - x - np.exp(-x/(2*epsilon)) *\n",
    "            (np.cos(np.sqrt(3)*x/(2*epsilon)) + (1 / np.sqrt(3)) * np.sin(np.sqrt(3)*x/(2*epsilon)))+epsilon*np.exp((x-1)/epsilon))\n",
    "        \n",
    "        \n"
   ]
  },
  {
   "cell_type": "code",
   "execution_count": null,
   "metadata": {},
   "outputs": [],
   "source": []
  },
  {
   "cell_type": "code",
   "execution_count": null,
   "metadata": {},
   "outputs": [],
   "source": [
    "plt.pcolor(psi)\n",
    "plt.colorbar()"
   ]
  },
  {
   "cell_type": "code",
   "execution_count": null,
   "metadata": {},
   "outputs": [],
   "source": [
    "np.pi * np.sin(np.pi * y) * (\n",
    "        1 - x - np.exp(-x/(2*epsilon)) *\n",
    "            (np.cos(np.sqrt(3)*x/(2*epsilon)) + (1 / np.sqrt(3)) * np.sin(np.sqrt(3)*x/(2*epsilon)))+epsilon*np.exp((x-1)/epsilon))"
   ]
  }
 ],
 "metadata": {
  "kernelspec": {
   "display_name": "Python 3 (ipykernel)",
   "language": "python",
   "name": "python3"
  },
  "language_info": {
   "codemirror_mode": {
    "name": "ipython",
    "version": 3
   },
   "file_extension": ".py",
   "mimetype": "text/x-python",
   "name": "python",
   "nbconvert_exporter": "python",
   "pygments_lexer": "ipython3",
   "version": "3.10.6"
  }
 },
 "nbformat": 4,
 "nbformat_minor": 4
}
