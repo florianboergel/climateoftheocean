{
 "cells": [
  {
   "cell_type": "markdown",
   "metadata": {},
   "source": [
    "# Lecture 2, A \"zero-dimensional\" energy balance model of Earth's climate\n",
    "\n",
    "> \n",
    "\n",
    "- toc: False \n",
    "- badges: true\n",
    "- comments: False\n",
    "- categories: [jupyter]"
   ]
  },
  {
   "cell_type": "markdown",
   "metadata": {},
   "source": [
    "Thanks a lot to [Henri Drake](https://github.com/hdrake) for providing the lecture.\n",
    "\n",
    "The original lecture is part of the MIT class [Introduction to Computational Thinking](https://computationalthinking.mit.edu/Fall20/lecture20/).\n",
    "\n",
    "This class uses the [Julia programming language](http://www.julialang.org/). The orignal code can be found under https://github.com/hdrake/simplEarth/blob/master/1_energy_balance_model.jl"
   ]
  },
  {
   "cell_type": "code",
   "execution_count": 5,
   "metadata": {},
   "outputs": [],
   "source": [
    "import xarray as xr\n",
    "import numpy as np\n",
    "import matplotlib.pyplot as plt"
   ]
  },
  {
   "cell_type": "markdown",
   "metadata": {},
   "source": [
    "## 1) Background: climate physics\n",
    "\n",
    "The simplest climate model can be conceptualized as:\n",
    "\n",
    "> change in heat content = \n",
    "\n",
    "> $+$ absorbed solar radiation (energy from the Sun's rays)\n",
    "\n",
    ">$-$ outgoing thermal radiation (i.e. blackbody cooling to space)\n",
    "\n",
    ">$+$ human-caused greenhouse effect (trapped outgoing radiation)\n",
    "\n",
    "\n",
    "where each of these is interpreted as an average over the entire globe (hence \"zero-dimensional\")."
   ]
  },
  {
   "cell_type": "markdown",
   "metadata": {},
   "source": [
    "![](https://raw.githubusercontent.com/hdrake/hdrake.github.io/master/figures/planetary_energy_balance.png)"
   ]
  },
  {
   "cell_type": "markdown",
   "metadata": {},
   "source": [
    "To make this simple conceptual model quantitative, we need a mathematical formulation for each of these four processes."
   ]
  },
  {
   "cell_type": "markdown",
   "metadata": {},
   "source": [
    "### 1.1 Absorbed solar radiation\n",
    "\n",
    "At Earth's orbital distance from the Sun, the power of the Sun's rays that intercept the Earth is equal to\n"
   ]
  },
  {
   "cell_type": "code",
   "execution_count": 13,
   "metadata": {},
   "outputs": [],
   "source": [
    "S = 1368 # solar insolation [W/m^2]  (energy per unit time per unit area)"
   ]
  },
  {
   "cell_type": "markdown",
   "metadata": {},
   "source": [
    "A small fraction"
   ]
  },
  {
   "cell_type": "code",
   "execution_count": 14,
   "metadata": {},
   "outputs": [],
   "source": [
    "alpha = 0.3 # albedo, or planetary reflectivity [unitless]"
   ]
  },
  {
   "cell_type": "markdown",
   "metadata": {},
   "source": [
    "of this incoming solar radiation is reflected back out to space (by reflective surfaces like white clouds, snow, and ice), with the remaining fraction $(1-\\alpha)$ being absorbed.\n",
    "Since the incoming solar rays are all approximately parallel this far from the Sun, the cross-sectional area of the Earth that intercepts them is just a disc of area $\\pi R^{2}$. Since all of the other terms we will consider act on the entire surface area $4\\pi R^{2}$ of the spherical Earth, the absorbed solar radiation *per unit surface area* (averaged over the entire globe) is reduced by a factor of 4.\n",
    "\n",
    "![](https://www.open.edu/openlearn/ocw/pluginfile.php/101161/mod_oucontent/oucontent/890/639dcd57/ce3f1c3a/s250_3_002i.jpg)\n",
    "\n",
    "The absorbed solar radiation per unit area is thus\n",
    "\n",
    "$\\text{absorbed solar radiation} \\equiv \\frac{S(1-\\alpha)}{4}$"
   ]
  },
  {
   "cell_type": "code",
   "execution_count": 15,
   "metadata": {},
   "outputs": [],
   "source": [
    "def absorbed_solar_radiation(S, alpha):\n",
    "    return (S*(1-alpha)/4)  # [W/m^2]"
   ]
  },
  {
   "cell_type": "markdown",
   "metadata": {},
   "source": [
    "### 1.2) Outgoing thermal radiation\n",
    "\n",
    "The outgoing thermal radiation term  (or \"blackbody cooling to space\") represents the combined effects of negative feedbacks that dampen warming, such as blackbody radiation, and positive feedbacks that amplify warming, such as the water vapor feedback.\n",
    "\n",
    "Since these physics are too complicated to deal with here, we linearize the model by considering only the first term of a Taylor Series expansion\n",
    "\n",
    "\n",
    "$$ G(T) \\sim G(T_0) + G^{'}(T_0) (T-T_0) = G^{'}(T_0)T + (G(T_0)-G^{'}(T_0)T_0) $$\n",
    "\n",
    "around the pre-industrial equilibrium temperature\n"
   ]
  },
  {
   "cell_type": "code",
   "execution_count": 16,
   "metadata": {},
   "outputs": [],
   "source": [
    "T0 = 14. # preindustrial temperature [°C]"
   ]
  },
  {
   "cell_type": "markdown",
   "metadata": {},
   "source": [
    "To simplify the expression, we define:\n",
    "\n",
    "$ A \\equiv G^{'}(T_0)T_0 $\n",
    "\n",
    "$ B \\equiv - G^{'}(T_0) \\text{       (the climate feedback parameter),}$\n",
    "\n",
    "which gives\n",
    "\n",
    "$$ \\text{outgoing thermal radiation} \\equiv G(T) \\sim A - BT$$"
   ]
  },
  {
   "cell_type": "code",
   "execution_count": 17,
   "metadata": {},
   "outputs": [],
   "source": [
    "def outgoing_thermal_radiation(T, A, B):\n",
    "    return A - B*T"
   ]
  },
  {
   "cell_type": "markdown",
   "metadata": {},
   "source": [
    "The value of the climate feedback parameter used here,"
   ]
  },
  {
   "cell_type": "code",
   "execution_count": 18,
   "metadata": {},
   "outputs": [],
   "source": [
    "B = -1.3 # climate feedback parameter [W/m^2/°C],"
   ]
  },
  {
   "cell_type": "markdown",
   "metadata": {},
   "source": [
    "comes from a bottom-up estimate based on the best understanding of the various climate feedbacks (read more [here](https://www.google.com/url?sa=t&rct=j&q=&esrc=s&source=web&cd=&ved=2ahUKEwikwbfrm9LsAhVjhuAKHQhZCm8QFjAEegQIAhAC&url=https%3A%2F%2Fclimateextremes.org.au%2Fwp-content%2Fuploads%2F2020%2F07%2FWCRP_ECS_Final_manuscript_2019RG000678R_FINAL_200720.pdf&usg=AOvVaw0hWIM3t4kJTovxoeobcRIN))."
   ]
  },
  {
   "cell_type": "markdown",
   "metadata": {},
   "source": [
    "Note: Since $B<0$ , this tells us that the overall climate feedback is negative (i.e. stabilizing). Positivefeedbacks cause  to become less negative, reducing the efficiency with which Earth cools itself by radiating thermal energy to space, and thus amplifying warming.\n",
    "\n",
    "The value $A$ of  is given by the definition of a preindustrial equilibrium, i.e. the fact that before human influence, Earth's energy budget was perfectly balanced:"
   ]
  },
  {
   "cell_type": "markdown",
   "metadata": {},
   "source": [
    "> absorbed solar radiation = outgoing thermal radiation\n",
    "\n",
    "or \n",
    "\n",
    "> $\\frac{S (1-\\alpha)}{4} \\equiv A - BT_0$\n",
    "\n",
    "By rearanging this equation, we find that the value of $A$ is given by"
   ]
  },
  {
   "cell_type": "code",
   "execution_count": 19,
   "metadata": {},
   "outputs": [
    {
     "data": {
      "text/plain": [
       "221.2"
      ]
     },
     "execution_count": 19,
     "metadata": {},
     "output_type": "execute_result"
    }
   ],
   "source": [
    "A = S*(1. - alpha)/4 + B*T0 # [W/m^2].\n",
    "A"
   ]
  },
  {
   "cell_type": "markdown",
   "metadata": {},
   "source": [
    "### Human-caused greenhouse effect\n",
    "\n",
    "Empirically, the greenhouse effect is known to be a logarithmic function of gaseous carbon dioxide (CO$_2$) concentrations\n",
    "\n",
    "$$ \\text{Human-caused greenhouse effect} = a * ln  \\frac{CO_2}{CO{_2}_{PI}}  $$\n",
    "\n",
    "where"
   ]
  },
  {
   "cell_type": "code",
   "execution_count": 20,
   "metadata": {},
   "outputs": [],
   "source": [
    "a = 5 # CO2 forcing coefficient [W/m^2]"
   ]
  },
  {
   "cell_type": "code",
   "execution_count": 21,
   "metadata": {},
   "outputs": [],
   "source": [
    "CO2_PI = 280 # preindustrial CO2 concentration [parts per million; ppm];"
   ]
  },
  {
   "cell_type": "code",
   "execution_count": 22,
   "metadata": {},
   "outputs": [],
   "source": [
    "def greenhouse_effect(CO2, a=5, CO2_PI = 280):\n",
    "    return a*np.log(CO2/CO2_PI)"
   ]
  },
  {
   "cell_type": "code",
   "execution_count": 23,
   "metadata": {},
   "outputs": [
    {
     "data": {
      "image/png": "[encoded data removed]",
      "text/plain": [
       "<Figure size 432x288 with 1 Axes>"
      ]
     },
     "metadata": {
      "needs_background": "light"
     },
     "output_type": "display_data"
    }
   ],
   "source": [
    "co2_present = 420\n",
    "co2_range = 280*2**np.linspace(-1,3,100)\n",
    "\n",
    "plt.plot(co2_range, greenhouse_effect(co2_range), color = \"black\")\n",
    "plt.ylabel('Radiative forcing [$W/m^2$]')\n",
    "plt.xlabel('$CO_2$ concentration [ppm]')\n",
    "plt.plot(CO2_PI, greenhouse_effect(CO2_PI), marker=\".\", markersize = 20, label = \"pre-industrial (PI)\", color = \"blue\")\n",
    "plt.plot(co2_present, greenhouse_effect(co2_present), marker=\".\", markersize = 20, label = \"present day (2020)\", color = \"red\")\n",
    "plt.xticks([280, 280*2, 280*4, 280*8])\n",
    "plt.legend(loc = 4)\n",
    "plt.grid()"
   ]
  },
  {
   "cell_type": "markdown",
   "metadata": {},
   "source": [
    "### 1.4) Change in heat content\n",
    "\n",
    "The heat content $CT$ is determined by the temperature $T$ (in Kelvin) and the heat capacity of the climate system. While we are interested in the temperature of the atmosphere, which has a very small heat capacity, its heat is closely coupled with that of the upper ocean, which has a much larger heat capacity of"
   ]
  },
  {
   "cell_type": "code",
   "execution_count": 24,
   "metadata": {},
   "outputs": [],
   "source": [
    "C = 51"
   ]
  },
  {
   "cell_type": "markdown",
   "metadata": {},
   "source": [
    "The change in heat content over time is thus simply given by $\\frac{d(CT)}{dt}$. Since the heat capacity of sea water hardly changes with temperature, we can rewrite this in terms of the change in temperature with time as:"
   ]
  },
  {
   "cell_type": "markdown",
   "metadata": {},
   "source": [
    "$$\\text{change in heat content} = C\\frac{dT}{dt} $$"
   ]
  },
  {
   "cell_type": "markdown",
   "metadata": {},
   "source": [
    "### 1.5) \"zero-dimensional\" climate model equation\n",
    "\n",
    "Combining all of these subcomponent models, we write the governing equation of the \"zero-dimensional\" energy balance climate model as the Ordinary Differential Equation (ODE)\n",
    "\n",
    "$$ C\\frac{dT}{dt} = \\frac{S (1-\\alpha)}{4} - ( A - BT_0) + a * ln  \\frac{CO_2}{CO{_2}_{PI}} $$\n",
    "\n",
    "which determines the time evolution of Earth's globally-averaged surface temperature."
   ]
  },
  {
   "cell_type": "markdown",
   "metadata": {},
   "source": [
    "## 2) Numerical solution method and data structures"
   ]
  },
  {
   "cell_type": "markdown",
   "metadata": {},
   "source": [
    "### 2.1) Discretization\n",
    "The energy balance model equation above can be discretized in time as\n",
    "\n",
    "$$ C\\frac{T(t+\\Delta t) - T(t)}{\\Delta t} = \\frac{S (1-\\alpha)}{4} - ( A - BT_0) + a * ln  \\frac{CO_2}{CO{_2}_{PI}} $$\n",
    "\n",
    "Our finite difference equation, which results from a first-order truncation of the Taylor series expansion, approximates the exact ordinary differential equation above in the limit that $\\Delta t \\rightarrow 0$. In practice, we can keep decreasing $\\Delta t$ until the solution converges within a tolerable error.\n",
    "\n",
    "Hereafter, we use the subscript $n$ to denote the $n$-th timestep, where $T_{n+1} \\equiv T(t_{n+1})$ denotes the temperature at the next timestep $t_{n+1} = t_n +\\Delta t$.\n",
    "\n",
    "By re-arranging the equation, we can solve for the temperature at the next timestep $n+1$  based on the known temperature at the present timestep $n$:\n",
    "\n",
    "$$ T_{n+1} = T_n + \\frac{\\Delta t}{C} \\bigg[\\frac{S (1-\\alpha)}{4} - ( A - BT_n) + a * ln  \\frac{CO_2}{CO{_2}_{PI}}\\bigg] $$\n",
    "\n",
    "### 2.2) Timestepping\n",
    "More generally, we recognize this equation to be of the form:\n",
    "\n",
    "$$ T_{n+1} = T_n + \\Delta t \\cdot \\text{tendency}(T_n; ...),$$"
   ]
  },
  {
   "cell_type": "markdown",
   "metadata": {},
   "source": [
    "which we implement below (don't forget to update the time as well, $t_{n+1} = t_n + \\Delta t$), which takes in an instance of our anticipated energy balance model EBM type as its only argument."
   ]
  },
  {
   "cell_type": "code",
   "execution_count": 25,
   "metadata": {},
   "outputs": [],
   "source": [
    "class ebm():\n",
    "    \"\"\"\n",
    "    Zero order energy balance model\n",
    "    \"\"\"\n",
    "\n",
    "    def __init__(self, T, t, deltat, CO2):\n",
    "        self.T = np.array(T)\n",
    "        self.t = t\n",
    "        \n",
    "        self.deltat = deltat\n",
    "        self.C = C\n",
    "        self.a = a\n",
    "        self.A = A\n",
    "        self.B = B\n",
    "        self.co2_pi = CO2_PI\n",
    "        self.alpha = alpha\n",
    "        self.S = S\n",
    "        self.co2 = CO2\n",
    "    \n",
    "    def tendency(self):\n",
    "        if self.T.size == 1:\n",
    "             return 1. / self.C * (\n",
    "            + absorbed_solar_radiation(alpha = self.alpha, S=self.S)\n",
    "            - outgoing_thermal_radiation(self.T, A = self.A, B=self.B)\n",
    "            + greenhouse_effect(self.co2(self.t), a = self.a, CO2_PI=self.co2_pi)\n",
    "            )\n",
    "        else:\n",
    "            return 1. / self.C * (\n",
    "            + absorbed_solar_radiation(alpha = self.alpha, S=self.S)\n",
    "            - outgoing_thermal_radiation(self.T[-1], A = self.A, B=self.B)\n",
    "            + greenhouse_effect(self.co2(self.t[-1]), a = self.a, CO2_PI=self.co2_pi)\n",
    "            )\n",
    "    @property\n",
    "    def timestep(self):\n",
    "        if self.T.size == 1:\n",
    "            self.T = np.append(self.T, self.T + self.deltat * self.tendency())\n",
    "            self.t = np.append(self.t, self.t + self.deltat)\n",
    "        else:\n",
    "            self.T = np.append(self.T, self.T[-1] + self.deltat * self.tendency())\n",
    "            self.t = np.append(self.t, self.t[-1] + self.deltat)       "
   ]
  },
  {
   "cell_type": "markdown",
   "metadata": {},
   "source": [
    "### 2.4) Running simulations of the energy balance model\n",
    "\n",
    "Let's define a function that runs an EBM simulation by timestepping forward until a given end_year.\n",
    "\n"
   ]
  },
  {
   "cell_type": "code",
   "execution_count": 26,
   "metadata": {},
   "outputs": [],
   "source": [
    "def run_ebm(ebm, end_year):\n",
    "    for year in range(end_year):\n",
    "        ebm.timestep"
   ]
  },
  {
   "cell_type": "markdown",
   "metadata": {},
   "source": [
    "For example, let us consider the case where CO₂ emissions increase by 1% year-over-year from the preindustrial value [CO$_2$] = $280.0$ ppm, starting at T=T₀=14°C in year t=0 and with a timestep Δt = 1 year."
   ]
  },
  {
   "cell_type": "code",
   "execution_count": 27,
   "metadata": {},
   "outputs": [],
   "source": [
    "def CO2_test(t):\n",
    "    return CO2_PI ** (1 + 1/100)**t\n",
    "\n",
    "EBM = ebm(T0, t=0, deltat=1, CO2=CO2_test)"
   ]
  },
  {
   "cell_type": "code",
   "execution_count": 28,
   "metadata": {},
   "outputs": [],
   "source": [
    "EBM.timestep"
   ]
  },
  {
   "cell_type": "code",
   "execution_count": 29,
   "metadata": {},
   "outputs": [
    {
     "data": {
      "text/plain": [
       "array([14., 14.])"
      ]
     },
     "execution_count": 29,
     "metadata": {},
     "output_type": "execute_result"
    }
   ],
   "source": [
    "EBM.T"
   ]
  },
  {
   "cell_type": "markdown",
   "metadata": {},
   "source": [
    "## 3) Energy balance model applications\n",
    "### 3.1) Why was Earth's preindustrial climate so stable?\n",
    "Let us consider the simple case where CO₂ concentrations remain at their pre-industrial temperatures."
   ]
  },
  {
   "cell_type": "code",
   "execution_count": 30,
   "metadata": {},
   "outputs": [],
   "source": [
    "def CO2_test(t):\n",
    "    return 280\n",
    "\n",
    "EBM = ebm(T0, 0, 1, CO2_test)"
   ]
  },
  {
   "cell_type": "code",
   "execution_count": 31,
   "metadata": {},
   "outputs": [],
   "source": [
    "run_ebm(EBM, 200) "
   ]
  },
  {
   "cell_type": "code",
   "execution_count": 32,
   "metadata": {},
   "outputs": [
    {
     "data": {
      "text/plain": [
       "Text(0, 0.5, 'temperature [°C]')"
      ]
     },
     "execution_count": 32,
     "metadata": {},
     "output_type": "execute_result"
    },
    {
     "data": {
      "image/png": "[encoded data removed]",
      "text/plain": [
       "<Figure size 432x288 with 1 Axes>"
      ]
     },
     "metadata": {
      "needs_background": "light"
     },
     "output_type": "display_data"
    }
   ],
   "source": [
    "t0s = np.arange(0,28,2)\n",
    "\n",
    "for i in t0s:\n",
    "    EBM = ebm(i, 0, 1, CO2_test)\n",
    "    run_ebm(EBM, 200) \n",
    "    plt.plot(EBM.T)\n",
    "\n",
    "plt.grid()\n",
    "plt.xlabel(\"year\")\n",
    "plt.ylabel(\"temperature [°C]\")"
   ]
  },
  {
   "cell_type": "markdown",
   "metadata": {},
   "source": [
    "This figure shows that, no matter where we start out, the overall negative feedbacks ($B<0$) restore the temperature to the preindustrial equilibrum value of $T_0$ = 14.0 °C, over an exponential timescale of about 100 years."
   ]
  },
  {
   "cell_type": "markdown",
   "metadata": {},
   "source": [
    "### 3.2) Historical global warming fueled by greenhouse gas emissions\n",
    "\n",
    "Human greenhouse gas emissions have fundamentally altered Earth's energy balance, moving us away from the stable preindustrial climate of the past few thousand years.\n",
    "\n",
    "Since human CO₂ emissions are the main driver of global warming, we expect that if we plug historical CO₂ increases into our model (\"forcing\" it), we should roughly reproduce the observed historical global warming.\n",
    "\n",
    "The observed increase of CO2 concentrations can be fairly accurately modelled by the simple cubic formula below."
   ]
  },
  {
   "cell_type": "code",
   "execution_count": 33,
   "metadata": {},
   "outputs": [],
   "source": [
    "def co2_hist(t):\n",
    "    return 280 * (1+ ((t-1850)/220)**3)"
   ]
  },
  {
   "cell_type": "code",
   "execution_count": 34,
   "metadata": {},
   "outputs": [],
   "source": [
    "EBM = ebm(T0, 1850, 1, co2_hist)\n",
    "\n",
    "run_ebm(EBM, 170) "
   ]
  },
  {
   "cell_type": "code",
   "execution_count": 35,
   "metadata": {},
   "outputs": [
    {
     "name": "stderr",
     "output_type": "stream",
     "text": [
      "<ipython-input-35-ad0381c77880>:3: ParserWarning: Falling back to the 'python' engine because the 'c' engine does not support regex separators (separators > 1 char and different from '\\s+' are interpreted as regex); you can avoid this warning by specifying engine='python'.\n",
      "  temp = pd.read_csv(url, header = None,\n"
     ]
    }
   ],
   "source": [
    "import pandas as pd\n",
    "url = \"https://data.giss.nasa.gov/gistemp/graphs/graph_data/Global_Mean_Estimates_based_on_Land_and_Ocean_Data/graph.txt\"\n",
    "temp = pd.read_csv(url, header = None,\n",
    "                   skiprows=5, index_col=0,\n",
    "                   delimiter=\"     \")\n",
    "temp = temp + 14.15\n",
    "\n",
    "CO2_url = \"https://scrippsco2.ucsd.edu/assets/data/atmospheric/stations/in_situ_co2/monthly/monthly_in_situ_co2_mlo.csv\"\n",
    "co2_data = pd.read_csv(CO2_url, header = 46,skiprows=8, index_col=0) \n",
    "co2_data = co2_data.iloc[4:] \n",
    "co2_data = pd.to_numeric(co2_data.iloc[:,5]) \n",
    "co2_data[co2_data<= 0] = np.nan\n",
    "co2_data.index = pd.to_datetime(co2_data.index)\n",
    "co2_data = co2_data.groupby(co2_data.index.year).mean() "
   ]
  },
  {
   "cell_type": "code",
   "execution_count": 36,
   "metadata": {},
   "outputs": [
    {
     "data": {
      "image/png": "[encoded data removed]",
      "text/plain": [
       "<Figure size 576x288 with 2 Axes>"
      ]
     },
     "metadata": {
      "needs_background": "light"
     },
     "output_type": "display_data"
    }
   ],
   "source": [
    "f, (ax, bx) = plt.subplots(1,2, figsize=(8,4))\n",
    "ax.plot(np.arange(1850, 2020), co2_hist(np.arange(1850, 2020)), label = \"EBM model\")\n",
    "ax.plot(co2_data.index, co2_data.values, label=\"Keeling Curve\")\n",
    "ax.set_ylabel(\"$CO_2$ concentration [ppm]\")\n",
    "ax.grid()\n",
    "ax.set_xlabel(\"Year\")\n",
    "ax.legend()\n",
    "\n",
    "\n",
    "bx.plot(np.arange(1850, 2021), EBM.T, label=\"EBM model\")\n",
    "temp.plot(ax = bx)\n",
    "bx.set_ylabel(\"Temperature [°C]\")\n",
    "bx.grid()\n",
    "bx.legend([\"EBM Model\", \"NASA Observations\", \"NASA Obs roll. mean\"])\n",
    "bx.set_xlabel(\"Year\")\n",
    "\n",
    "f.tight_layout()"
   ]
  },
  {
   "cell_type": "markdown",
   "metadata": {},
   "source": [
    "### CO$_2$ emissions predict the trend, but what about the climate noise?\n",
    "\n",
    "CO$_2$ emissions predict the trend, but what about the climate noise?\n",
    "Our model does a good job of predicting the long-term trend of increasing temperatures, but what about all of the noise in the observations? These are real signals due to natural variability of the Earth system, not artifacts due to instrumental noise.\n",
    "\n",
    "This natural noise arises due to the turbulent and chaotic fluid dynamics of the atmosphere and ocean, which we will explore further in Lecture 4 and are illustrated below."
   ]
  },
  {
   "cell_type": "markdown",
   "metadata": {},
   "source": [
    "[youtube](https://youtu.be/oRsY_UviBPE)"
   ]
  },
  {
   "cell_type": "markdown",
   "metadata": {},
   "source": [
    "Now that we've convinced ourselves that the model accurately reproduces historical warming, we can use it to project how much warming we might expect due to future CO₂ emissions."
   ]
  },
  {
   "cell_type": "markdown",
   "metadata": {},
   "source": [
    "### 3.3) Best- and worst-case projections of future global warming\n",
    "\n",
    "Consider two divergent hypothetical futures:\n",
    "\n",
    "1) a low-emissions world in which emissions decrease such that CO2 concentrations stay below 500 ppm by 2100 (known in climate circles as \"RCP2.6\") and\n",
    "\n",
    "2) a high-emissions world in which emissions continue increasing and CO2 concentrations soar upwards of 1200 ppm (\"RCP8.5\")."
   ]
  },
  {
   "cell_type": "code",
   "execution_count": 37,
   "metadata": {},
   "outputs": [],
   "source": [
    "def CO2_RCP26(t):\n",
    "    return 280 * (1+ ((t-1850)/220)**3 * np.minimum(1., np.exp(-((t-1850)-170)/100)))\n",
    "def CO2_RCP85(t):\n",
    "    return 280 * (1+ ((t-1850)/220)**3 * np.maximum(1., np.exp(((t-1850)-170)/100)))"
   ]
  },
  {
   "cell_type": "markdown",
   "metadata": {},
   "source": [
    "In the low-emissions scenario, the temperature increase stays below $\\Delta T$ = 2 °C by 2100, while in the high-emissions scenario temperatures soar upwards of 3.5ºC above pre-industrial levels."
   ]
  },
  {
   "cell_type": "code",
   "execution_count": 38,
   "metadata": {},
   "outputs": [],
   "source": [
    "EBM1 = ebm(T0, 1850, 1, CO2_RCP26)\n",
    "EBM2 = ebm(T0, 1850, 1, CO2_RCP85)\n",
    "\n",
    "run_ebm(EBM1, 249) \n",
    "run_ebm(EBM2, 249) "
   ]
  },
  {
   "cell_type": "code",
   "execution_count": 39,
   "metadata": {},
   "outputs": [
    {
     "data": {
      "image/png": "[encoded data removed]",
      "text/plain": [
       "<Figure size 576x288 with 2 Axes>"
      ]
     },
     "metadata": {
      "needs_background": "light"
     },
     "output_type": "display_data"
    }
   ],
   "source": [
    "f, (ax, bx) = plt.subplots(1,2, figsize = (8,4))\n",
    "\n",
    "ax.plot(np.arange(1850, 2100), CO2_RCP26(np.arange(1850,2100)), \n",
    "        color = \"Blue\", label = \"RCP 2.6 low emissions\")\n",
    "ax.plot(np.arange(1850, 2100), CO2_RCP85(np.arange(1850,2100)),\n",
    "        color = \"Red\", label = \"RCP 8.5 High emissions\")\n",
    "ax.plot(2020, CO2_RCP26(2020), marker=\".\",\n",
    "        markersize = 20, label = \"we are here\", color = \"black\")\n",
    "ax.set_ylabel(\"$CO_2$ concentration [ppm]\")\n",
    "ax.legend()\n",
    "\n",
    "bx.plot(np.arange(1850, 2100), EBM1.T, color = \"Blue\")\n",
    "bx.plot(np.arange(1850, 2100), EBM2.T,  color = \"Red\")\n",
    "bx.axhline(y = 16, label = \"Paris Agreement\\n threshold (2°C warming)\",\n",
    "           ls=\"--\", color = \"black\")\n",
    "bx.set_ylabel(\"Temperature [°C]\")\n",
    "bx.plot(2020, EBM1.T[170], marker=\".\", \n",
    "         markersize = 20, label = \"we are here\", color = \"black\")\n",
    "bx.legend()\n",
    "\n",
    "f.tight_layout()"
   ]
  }
 ],
 "metadata": {
  "kernelspec": {
   "display_name": "Python 3",
   "language": "python",
   "name": "python3"
  },
  "language_info": {
   "codemirror_mode": {
    "name": "ipython",
    "version": 3
   },
   "file_extension": ".py",
   "mimetype": "text/x-python",
   "name": "python",
   "nbconvert_exporter": "python",
   "pygments_lexer": "ipython3",
   "version": "3.8.2"
  },
  "varInspector": {
   "cols": {
    "lenName": 16,
    "lenType": 16,
    "lenVar": 40
   },
   "kernels_config": {
    "python": {
     "delete_cmd_postfix": "",
     "delete_cmd_prefix": "del ",
     "library": "var_list.py",
     "varRefreshCmd": "print(var_dic_list())"
    },
    "r": {
     "delete_cmd_postfix": ") ",
     "delete_cmd_prefix": "rm(",
     "library": "var_list.r",
     "varRefreshCmd": "cat(var_dic_list()) "
    }
   },
   "types_to_exclude": [
    "module",
    "function",
    "builtin_function_or_method",
    "instance",
    "_Feature"
   ],
   "window_display": false
  }
 },
 "nbformat": 4,
 "nbformat_minor": 4
}
