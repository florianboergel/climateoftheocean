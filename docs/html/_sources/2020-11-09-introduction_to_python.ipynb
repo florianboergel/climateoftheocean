{
 "cells": [
  {
   "cell_type": "markdown",
   "metadata": {},
   "source": [
    "# Lecture 1, Introduction to python\n",
    "\n",
    "> \n",
    "\n",
    "- toc: False \n",
    "- badges: true\n",
    "- comments: False\n",
    "- categories: [jupyter]"
   ]
  },
  {
   "cell_type": "markdown",
   "metadata": {},
   "source": [
    "# Getting started\n",
    "\n",
    "## Introduction to Python\n",
    "\n",
    "![](python.png)\n",
    "\n",
    "\n",
    "## What are we doing during the course?\n",
    "\n",
    "The course aims to introduce you to the first steps of data analysis\n",
    "\n",
    "- save data\n",
    "- organize and manipulate data\n",
    "- further tools for data analysis\n",
    "\n",
    "If you never coded before than starting with Python is perfect! Python is one of the easiest and most straight forward languages."
   ]
  },
  {
   "cell_type": "code",
   "execution_count": 7,
   "metadata": {},
   "outputs": [],
   "source": [
    "x = 1"
   ]
  },
  {
   "cell_type": "code",
   "execution_count": 8,
   "metadata": {},
   "outputs": [],
   "source": [
    "x = \"abcd\""
   ]
  },
  {
   "cell_type": "markdown",
   "metadata": {},
   "source": [
    "x as an integer and then a string? The same concept is applicable for many other different examples. Python has a minimalistic approech and follows a simple syntax. This is why source code is very easy to read."
   ]
  },
  {
   "cell_type": "code",
   "execution_count": 9,
   "metadata": {},
   "outputs": [
    {
     "name": "stdout",
     "output_type": "stream",
     "text": [
      "x is zero or none\n"
     ]
    }
   ],
   "source": [
    "x = 0\n",
    "if x > 0:\n",
    "    statement = \"x is positive\"\n",
    "elif x < 0:\n",
    "    statement = \"x is negative\"\n",
    "else: \n",
    "    statement = \"x is zero or none\"\n",
    "    \n",
    "print(statement)"
   ]
  },
  {
   "cell_type": "code",
   "execution_count": 10,
   "metadata": {},
   "outputs": [
    {
     "name": "stdout",
     "output_type": "stream",
     "text": [
      "x : 1\n",
      "y : Hello\n"
     ]
    }
   ],
   "source": [
    "x = 5 - 4       # Comments are made with a hash Raute\n",
    "y = \"Hello\"     # Everything after the hash will be a comment\n",
    "if y == \"hallo\":\n",
    "    z = x * 2\n",
    "    y = y + \" World\" # This is how you combine strings!\n",
    "\n",
    "print(\"x :\", x) # The letter x and the our variable x\n",
    "print(\"y :\", y)\n"
   ]
  },
  {
   "cell_type": "markdown",
   "metadata": {},
   "source": [
    "**First summary:**\n",
    "- Indenting of the source code has a meaning!\n",
    "    -  the indentation of your code organizes it into blocks within blocks within blocks. \n",
    "- the first assignment of a variable creates it\n",
    "    - we don't care if it is an integer, float or string\n",
    "- assignments of variables use *=*, to compare two variables we use *==*\n",
    "- also: logical operators are words (and, or, not) *not* symbols"
   ]
  },
  {
   "cell_type": "markdown",
   "metadata": {},
   "source": [
    "## Variables and types\n",
    "### Variable\n",
    "The value of a variable can be obtained by writing its name."
   ]
  },
  {
   "cell_type": "code",
   "execution_count": 11,
   "metadata": {},
   "outputs": [
    {
     "data": {
      "text/plain": [
       "68.7"
      ]
     },
     "execution_count": 11,
     "metadata": {},
     "output_type": "execute_result"
    }
   ],
   "source": [
    "height = 1.79\n",
    "\n",
    "weight = 68.7 \n",
    "\n",
    "weight"
   ]
  },
  {
   "cell_type": "markdown",
   "metadata": {},
   "source": [
    "**Second example:**\n",
    "\n",
    "Calculate your BMI\n",
    "\n",
    "BMI = $\\frac{weight [kg]}{size^2 [m]}$ \n",
    "\n",
    "Exponentiation in Python is defined as\n",
    "\n",
    "Variable ** 2 .\n",
    "\n"
   ]
  },
  {
   "cell_type": "code",
   "execution_count": 12,
   "metadata": {},
   "outputs": [
    {
     "name": "stdout",
     "output_type": "stream",
     "text": [
      "22.03856749311295\n"
     ]
    }
   ],
   "source": [
    "BMI = 60/(1.65**2)\n",
    "print(BMI)"
   ]
  },
  {
   "cell_type": "markdown",
   "metadata": {},
   "source": [
    "### Types\n",
    "\n",
    "Without going into detail:"
   ]
  },
  {
   "cell_type": "code",
   "execution_count": 13,
   "metadata": {},
   "outputs": [
    {
     "name": "stdout",
     "output_type": "stream",
     "text": [
      "days_of_week:  <class 'int'>\n",
      "pi:  <class 'float'>\n",
      "x:  <class 'str'>\n",
      "y:  <class 'str'>\n",
      "z:  <class 'bool'>\n"
     ]
    }
   ],
   "source": [
    "pi = 3.141516546859754674896794\n",
    "days_of_week = 5\n",
    "x = 'Hey Guys'\n",
    "y = \"Also works this way ...\"\n",
    "z = True\n",
    "\n",
    "print('days_of_week: ', type(days_of_week))\n",
    "print('pi: ', type(pi))\n",
    "print('x: ', type(x))\n",
    "print('y: ', type(y))\n",
    "print('z: ', type(z))"
   ]
  },
  {
   "cell_type": "markdown",
   "metadata": {},
   "source": [
    "Does this really matter? Actually, no, since Python's use of variables is very intuitive. Still, keep in mind that a different variable type can lead to different behaviour:"
   ]
  },
  {
   "cell_type": "code",
   "execution_count": 14,
   "metadata": {},
   "outputs": [
    {
     "data": {
      "text/plain": [
       "5"
      ]
     },
     "execution_count": 14,
     "metadata": {},
     "output_type": "execute_result"
    }
   ],
   "source": [
    "2 + 3 "
   ]
  },
  {
   "cell_type": "code",
   "execution_count": 15,
   "metadata": {},
   "outputs": [
    {
     "data": {
      "text/plain": [
       "'abcd'"
      ]
     },
     "execution_count": 15,
     "metadata": {},
     "output_type": "execute_result"
    }
   ],
   "source": [
    "'ab' + 'cd'"
   ]
  },
  {
   "cell_type": "code",
   "execution_count": 16,
   "metadata": {},
   "outputs": [],
   "source": [
    "# We define two integers and assign the division to c\n",
    "a = 1\n",
    "b = 5\n",
    "\n",
    "c = a / b"
   ]
  },
  {
   "cell_type": "markdown",
   "metadata": {},
   "source": [
    "What is the value of c?"
   ]
  },
  {
   "cell_type": "code",
   "execution_count": 17,
   "metadata": {},
   "outputs": [
    {
     "name": "stdout",
     "output_type": "stream",
     "text": [
      "0.2\n"
     ]
    }
   ],
   "source": [
    "print(c)"
   ]
  },
  {
   "cell_type": "markdown",
   "metadata": {},
   "source": [
    "### Lists\n",
    "As opposed to int, bool etc., a list is a compound data type; you can group values together:\n",
    "\n",
    "\n",
    "```python\n",
    "a = \"is\"\n",
    "b = \"nice\"\n",
    "my_list = [\"my\", \"list\", a, b]\n",
    "```\n",
    "After measuring the height of your family, you decide to collect some information on the house you're living in. The areas of the different parts of your house are stored in separate variables for now, as shown in the script."
   ]
  },
  {
   "cell_type": "markdown",
   "metadata": {},
   "source": [
    "### List of lists\n",
    "As a data scientist, you'll often be dealing with a lot of data, and it will make sense to group some of this data.\n",
    "\n",
    "Instead of creating a flat list containing strings and floats, representing the names and areas of the rooms in your house, you can create a list of lists. The script on the right can already give you an idea.\n",
    "\n",
    "Don't get confused here: \"hallway\" is a string, while hall is a variable that represents the float 11.25 you specified earlier."
   ]
  },
  {
   "cell_type": "code",
   "execution_count": 18,
   "metadata": {},
   "outputs": [],
   "source": [
    "# area variables (in square meters)\n",
    "hall = 11.25\n",
    "kit = 18.0\n",
    "liv = 20.0\n",
    "bed = 10.75\n",
    "bath = 9.50\n",
    "\n",
    "# house information as list of lists\n",
    "house = [[\"hallway\", hall],\n",
    "         [\"kitchen\", kit],\n",
    "         [\"living room\", liv]]\n",
    "\n",
    "# Print out house\n",
    "\n",
    "\n",
    "# Print out the type of house"
   ]
  },
  {
   "cell_type": "markdown",
   "metadata": {},
   "source": [
    "### Subset and conquer\n",
    "Subsetting Python lists is a piece of cake. Take the code sample below, which creates a list x and then selects \"b\" from it. Remember that this is the second element, so it has index 1. You can also use negative indexing.\n",
    "\n",
    "```python\n",
    "x = [\"a\", \"b\", \"c\", \"d\"]\n",
    "x[1]\n",
    "x[-3] # same result!\n",
    "```\n",
    "\n",
    "\n",
    "Remember the areas list from before, containing both strings and floats? Its definition is already in the script. Can you add the correct code to do some Python subsetting?"
   ]
  },
  {
   "cell_type": "markdown",
   "metadata": {},
   "source": [
    "### Familiar functions\n",
    "Out of the box, Python offers a bunch of built-in functions to make your life as a data scientist easier. You already know two such functions: print() and type(). You've also used the functions str(), int(), bool() and float() to switch between data types. These are built-in functions as well.\n",
    "\n",
    "Calling a function is easy. To get the type of 3.0 and store the output as a new variable, result, you can use the following:\n",
    "\n",
    "result = type(3.0)\n",
    "\n",
    "The general recipe for calling functions and saving the result to a variable is thus:\n",
    "\n",
    "output = function_name(input)"
   ]
  },
  {
   "cell_type": "code",
   "execution_count": 19,
   "metadata": {},
   "outputs": [
    {
     "name": "stdout",
     "output_type": "stream",
     "text": [
      "<class 'list'>\n",
      "4\n"
     ]
    },
    {
     "data": {
      "text/plain": [
       "0"
      ]
     },
     "execution_count": 19,
     "metadata": {},
     "output_type": "execute_result"
    }
   ],
   "source": [
    "# Create variables var1 and var2\n",
    "var1 = [1, 2, 3, 4]\n",
    "var2 = False\n",
    "\n",
    "# Print out type of var1\n",
    "print(type(var1))\n",
    "# Print out length of var1\n",
    "print(len(var1))\n",
    "\n",
    "# Convert var2 to an integer: out2\n",
    "int(var2)"
   ]
  },
  {
   "cell_type": "markdown",
   "metadata": {},
   "source": [
    "## Numpy"
   ]
  },
  {
   "cell_type": "code",
   "execution_count": 20,
   "metadata": {},
   "outputs": [
    {
     "name": "stdout",
     "output_type": "stream",
     "text": [
      "This is a list: <class 'list'> and looks like \n",
      " [1, 2, 3, 4, 5, 6, 7, 8, 9]\n",
      "This is an array: <class 'numpy.ndarray'> and looks like \n",
      " [1 2 3 4 5 6 7 8 9]\n"
     ]
    }
   ],
   "source": [
    "import numpy as np\n",
    "\n",
    "# List\n",
    "a = [1,2,3,4,5,6,7,8,9]\n",
    "\n",
    "# numpy array\n",
    "A = np.array([1,2,3,4,5,6,7,8,9])\n",
    "\n",
    "print(\"This is a list: {} and looks like \\n {}\".format(type(a), a))\n",
    "print(\"This is an array: {} and looks like \\n {}\".format(type(A), A))"
   ]
  },
  {
   "cell_type": "markdown",
   "metadata": {},
   "source": [
    "### Create arrays of a give length"
   ]
  },
  {
   "cell_type": "code",
   "execution_count": 21,
   "metadata": {},
   "outputs": [
    {
     "name": "stdout",
     "output_type": "stream",
     "text": [
      "Lenght of array y_ar is 10.\n",
      "[0.  0.1 0.2 0.3 0.4 0.5 0.6 0.7 0.8 0.9]\n",
      "Lenght of array x_ar is 5.\n",
      "[ 1.    3.25  5.5   7.75 10.  ]\n"
     ]
    }
   ],
   "source": [
    "y_ar = np.arange(0, 1, 0.1)\n",
    "print(\"Lenght of array y_ar is {}.\".format(len(y_ar)))\n",
    "print(y_ar)\n",
    "\n",
    "x_ar = np.linspace(1, 10, 5) #creates an array of length 5 between 1 and 10 \n",
    "\n",
    "print(\"Lenght of array x_ar is {}.\".format(len(x_ar)))\n",
    "print(x_ar)"
   ]
  },
  {
   "cell_type": "markdown",
   "metadata": {},
   "source": [
    "### Multidimensional arrays"
   ]
  },
  {
   "cell_type": "code",
   "execution_count": 22,
   "metadata": {},
   "outputs": [
    {
     "name": "stdout",
     "output_type": "stream",
     "text": [
      "Shape of z_ar is (100,)\n",
      "Shape of z_ar is (100, 1)\n",
      "Shape of z_ar is (100, 1, 3, 5)\n"
     ]
    },
    {
     "data": {
      "text/plain": [
       "0.0"
      ]
     },
     "execution_count": 22,
     "metadata": {},
     "output_type": "execute_result"
    }
   ],
   "source": [
    "z_ar = np.zeros((100)) #creates an array of shape (100,) with zeros\n",
    "\n",
    "print(\"Shape of z_ar is {}\".format(z_ar.shape)) \n",
    "\n",
    "z_ar = np.zeros((100,1))\n",
    "\n",
    "print(\"Shape of z_ar is {}\".format(z_ar.shape))\n",
    "\n",
    "z_ar = np.zeros((100, 1, 3, 5))\n",
    "\n",
    "print(\"Shape of z_ar is {}\".format(z_ar.shape))\n",
    "\n",
    "z_ar[0, 0, 1, 2]"
   ]
  },
  {
   "cell_type": "markdown",
   "metadata": {},
   "source": [
    ".shape gives you the dimensions of the array, while len() only returns the lenght of the first dimension!"
   ]
  },
  {
   "cell_type": "code",
   "execution_count": 23,
   "metadata": {},
   "outputs": [
    {
     "name": "stdout",
     "output_type": "stream",
     "text": [
      "[1, 2, 3, 3, 4, 5]\n",
      "[4, 6, 8]\n"
     ]
    }
   ],
   "source": [
    "import time\n",
    "\n",
    "a = [1, 2, 3]\n",
    "b = [3, 4, 5]\n",
    "\n",
    "print(a + b) \n",
    "\n",
    "c = []\n",
    "\n",
    "for count in range(len(a)):\n",
    "    c.append(a[count] + b [count])\n",
    "\n",
    "print(c)"
   ]
  },
  {
   "cell_type": "code",
   "execution_count": 24,
   "metadata": {},
   "outputs": [
    {
     "name": "stdout",
     "output_type": "stream",
     "text": [
      "[4. 6. 8.]\n"
     ]
    }
   ],
   "source": [
    "a = np.array([1., 2., 3.])\n",
    "b = np.array([3., 4., 5.])\n",
    "\n",
    "print(a + b)\n",
    "\n"
   ]
  },
  {
   "cell_type": "markdown",
   "metadata": {},
   "source": [
    "### Why do we do this?"
   ]
  },
  {
   "cell_type": "code",
   "execution_count": 25,
   "metadata": {},
   "outputs": [
    {
     "name": "stdout",
     "output_type": "stream",
     "text": [
      "This took 190.984 ms\n",
      "This took 22.381 ms\n"
     ]
    }
   ],
   "source": [
    "a = [1 for x in range(1000000)]\n",
    "b = [1 for x in range(1000000)]\n",
    "\n",
    "\n",
    "time1 = time.time()\n",
    "c = []\n",
    "for count in range(len(a)):\n",
    "    c.append(a[count] + b[count])\n",
    "time2 = time.time()   \n",
    "print('This took %0.3f ms' % ((time2-time1)*1000.0))\n",
    "\n",
    "\n",
    "a = np.ones(1000000)\n",
    "b = np.ones(1000000)\n",
    "\n",
    "time1 = time.time()\n",
    "c = a + b\n",
    "time2 = time.time()   \n",
    "print('This took %0.3f ms' % ((time2-time1)*1000.0))"
   ]
  },
  {
   "cell_type": "markdown",
   "metadata": {},
   "source": [
    "### Useful functions:\n"
   ]
  },
  {
   "cell_type": "code",
   "execution_count": 26,
   "metadata": {},
   "outputs": [
    {
     "name": "stdout",
     "output_type": "stream",
     "text": [
      "(10, 20, 30)\n"
     ]
    }
   ],
   "source": [
    "z = np.random.rand(10, 20, 30)\n",
    "\n",
    "print(z.shape)"
   ]
  },
  {
   "cell_type": "code",
   "execution_count": 27,
   "metadata": {},
   "outputs": [
    {
     "name": "stdout",
     "output_type": "stream",
     "text": [
      "(10, 30)\n",
      "(10,)\n"
     ]
    }
   ],
   "source": [
    "z_mean = np.nanmean(z, axis = 1)\n",
    "\n",
    "print(z_mean.shape)\n",
    "\n",
    "z_mean = np.nanmean(z, axis = (1,2))\n",
    "\n",
    "print(z_mean.shape)\n",
    "\n",
    "z_mean_sqrt = np.sqrt(z_mean) # square root"
   ]
  },
  {
   "cell_type": "markdown",
   "metadata": {},
   "source": [
    "## masked arrays"
   ]
  },
  {
   "cell_type": "code",
   "execution_count": 28,
   "metadata": {},
   "outputs": [
    {
     "name": "stdout",
     "output_type": "stream",
     "text": [
      "[[False  True  True  True False  True False False False  True  True False\n",
      "   True False  True  True  True  True False  True]\n",
      " [False  True False False  True  True False False False  True  True  True\n",
      "  False  True  True False  True False  True False]\n",
      " [ True False False False  True False  True  True  True  True False  True\n",
      "   True  True  True  True False  True False  True]\n",
      " [ True  True  True False False  True False False False  True  True  True\n",
      "  False False  True  True  True False  True  True]\n",
      " [ True  True  True False  True False  True  True  True False  True  True\n",
      "  False  True  True False False  True  True  True]\n",
      " [ True  True  True  True False  True False False  True  True  True  True\n",
      "  False False  True False False False False False]\n",
      " [False False  True  True  True False False  True False  True False  True\n",
      "  False  True False False False False  True False]\n",
      " [ True False  True  True False False  True  True  True  True False False\n",
      "  False False  True False False False False  True]\n",
      " [False  True False False  True  True False  True False False False  True\n",
      "   True  True  True False  True False False False]\n",
      " [False False False False False False False  True False  True False False\n",
      "  False False  True False  True False False False]\n",
      " [ True  True  True False False  True  True False False  True False False\n",
      "  False False False False  True  True  True  True]\n",
      " [ True False False  True False False  True False  True  True False False\n",
      "   True False  True False  True False  True  True]\n",
      " [ True False False False False  True  True  True  True False False  True\n",
      "  False False False  True False False  True  True]\n",
      " [False False  True False  True  True False False False False  True False\n",
      "  False  True  True False False False False  True]\n",
      " [ True False False False  True  True False  True  True  True  True  True\n",
      "  False False  True  True  True  True  True False]\n",
      " [ True  True False  True  True  True  True False False  True False  True\n",
      "   True  True False  True False False False  True]\n",
      " [ True  True False  True False  True  True False False  True False  True\n",
      "  False  True  True  True False  True  True  True]\n",
      " [False False False  True  True False False False False  True False False\n",
      "   True  True  True False  True  True False False]\n",
      " [ True  True False  True False False  True False  True False False False\n",
      "   True  True False  True False  True  True  True]\n",
      " [False  True  True False  True  True  True  True  True  True  True  True\n",
      "   True False False False  True False False  True]]\n",
      "(20, 20)\n"
     ]
    }
   ],
   "source": [
    "z = np.random.rand(20, 20)\n",
    "mask = (z < 0.5)\n",
    "\n",
    "print(mask)\n",
    "print(mask.shape)"
   ]
  },
  {
   "cell_type": "code",
   "execution_count": 29,
   "metadata": {},
   "outputs": [
    {
     "name": "stdout",
     "output_type": "stream",
     "text": [
      "[[0.5978333056634115 -- -- -- 0.9152501522824146 -- 0.7916287392512159\n",
      "  0.7928566155462591 0.8296902624971217 -- -- 0.6852856720906341 --\n",
      "  0.8341387004206775 -- -- -- -- 0.8094767459639305 --]\n",
      " [0.5284749786477574 -- 0.9692448492945632 0.5068885461498903 -- --\n",
      "  0.9982033801792924 0.6446449735549381 0.8982505405882799 -- -- --\n",
      "  0.8202508382388177 -- -- 0.5371093964909518 -- 0.8842660402220104 --\n",
      "  0.7842271087394086]\n",
      " [-- 0.7127430422749206 0.6130407399050007 0.5077916555865725 --\n",
      "  0.7123875777621683 -- -- -- -- 0.9257742767168362 -- -- -- -- --\n",
      "  0.7893866060110892 -- 0.8219722516595986 --]\n",
      " [-- -- -- 0.9511395789894707 0.5064100784906008 -- 0.7628344896078808\n",
      "  0.6899599400205454 0.8545623119356198 -- -- -- 0.8966124582837998\n",
      "  0.6751098614621039 -- -- -- 0.5599346115350089 -- --]\n",
      " [-- -- -- 0.6866780820516447 -- 0.9612539063235854 -- -- --\n",
      "  0.7549588003015492 -- -- 0.9815310576382813 -- -- 0.6690227959138888\n",
      "  0.8163426414073014 -- -- --]\n",
      " [-- -- -- -- 0.951122571524875 -- 0.7526234074825154 0.7814204821387767\n",
      "  -- -- -- -- 0.8856517620807556 0.6104034095672278 -- 0.9108432333505353\n",
      "  0.778538501878837 0.694587660065455 0.6362099310807572\n",
      "  0.5446806033519845]\n",
      " [0.765291341112839 0.5678977599825668 -- -- -- 0.7416145588543542\n",
      "  0.8235160533214866 -- 0.7707774894079225 -- 0.5023683957476383 --\n",
      "  0.7408438608220037 -- 0.5296017698924947 0.5082239359783319\n",
      "  0.6419438019001998 0.7117301668945667 -- 0.657189876311379]\n",
      " [-- 0.8048803074817702 -- -- 0.5607659768586147 0.529414773085168 -- --\n",
      "  -- -- 0.9709522752112307 0.7176384967060485 0.6245701461766041\n",
      "  0.9152999699249196 -- 0.6950911056628933 0.6962333701452088\n",
      "  0.5117383305673276 0.6562077032544125 --]\n",
      " [0.7180394373263428 -- 0.9327420457969964 0.7313254081696123 -- --\n",
      "  0.7834917208433687 -- 0.6564836814993806 0.9486566338745831\n",
      "  0.9503006501814885 -- -- -- -- 0.5000568267253331 -- 0.6698741053113492\n",
      "  0.5467225068483047 0.8331538309312719]\n",
      " [0.5215265735569622 0.8640238404698893 0.6408010961069202\n",
      "  0.5536938469380971 0.5200815875468717 0.8826848235280155\n",
      "  0.9053227732031718 -- 0.5533691730783306 -- 0.9810387471501621\n",
      "  0.8078583036076045 0.8484515454120168 0.6874302490110933 --\n",
      "  0.8639022626997208 -- 0.8799500204693254 0.8718127716771297\n",
      "  0.8204912819617214]\n",
      " [-- -- -- 0.5795894406941741 0.9565448187520345 -- -- 0.7272968720111568\n",
      "  0.7831777859857665 -- 0.7436871646664872 0.8611617101928444\n",
      "  0.676023394786886 0.7450227896716436 0.9882858446251811\n",
      "  0.8853471456826659 -- -- -- --]\n",
      " [-- 0.6576507974124693 0.7491771982051983 -- 0.8574944676437715\n",
      "  0.9019680472758415 -- 0.6549695482515835 -- -- 0.520695721334124\n",
      "  0.6362144569619924 -- 0.7534416008072654 -- 0.6885848590222653 --\n",
      "  0.6994537759876023 -- --]\n",
      " [-- 0.7188077162195455 0.6465685521337263 0.5600527195230722\n",
      "  0.7742831918520511 -- -- -- -- 0.5660026791003127 0.9032330848387855 --\n",
      "  0.8763993137345346 0.6583560687724255 0.7959412900351969 --\n",
      "  0.927068976533419 0.8568755032734119 -- --]\n",
      " [0.7476169752648986 0.5234545373235526 -- 0.904445394920723 -- --\n",
      "  0.8712697529733069 0.915977932603021 0.6225238810151054\n",
      "  0.9404663455028375 -- 0.9591144618102622 0.7461094856964241 -- --\n",
      "  0.9377281247401308 0.5513308605251162 0.8118229198135797\n",
      "  0.5270742341408144 --]\n",
      " [-- 0.6118588359307 0.5934121449766 0.5753664230566036 -- --\n",
      "  0.9152199517735821 -- -- -- -- -- 0.608783502674255 0.7120681303458005\n",
      "  -- -- -- -- -- 0.8641303762940244]\n",
      " [-- -- 0.8518217111151136 -- -- -- -- 0.9189100974288652\n",
      "  0.5894730895585055 -- 0.9728163707667034 -- -- -- 0.6073285465931129 --\n",
      "  0.8148482194462799 0.578153245458349 0.5084431399278518 --]\n",
      " [-- -- 0.598156557892885 -- 0.7035021684172477 -- -- 0.5334056944093172\n",
      "  0.905543047854529 -- 0.9522679680242473 -- 0.9378657320842904 -- -- --\n",
      "  0.7456640454038644 -- -- --]\n",
      " [0.9956038986949931 0.7055672031819478 0.7235486594711124 -- --\n",
      "  0.7537276307675379 0.6893951331706245 0.6175120103700737\n",
      "  0.9253538077205439 -- 0.7468392921370716 0.656673742458098 -- -- --\n",
      "  0.5871707737184049 -- -- 0.6037769628317056 0.7816692644108565]\n",
      " [-- -- 0.6330044771323631 -- 0.8888459905368238 0.6809502172023364 --\n",
      "  0.7768491453561011 -- 0.7901265574453287 0.6231098759671369\n",
      "  0.5124489616644249 -- -- 0.8968796664387609 -- 0.6682602708851448 -- --\n",
      "  --]\n",
      " [0.8033092843471001 -- -- 0.5285349139414175 -- -- -- -- -- -- -- -- --\n",
      "  0.9578748973473007 0.7048769839177969 0.5168159767357904 --\n",
      "  0.7133451231643838 0.5898115526109324 --]]\n"
     ]
    }
   ],
   "source": [
    "z_masked = np.ma.asarray(z)\n",
    "z_masked.mask = mask\n",
    "\n",
    "print(z_masked)"
   ]
  },
  {
   "cell_type": "code",
   "execution_count": 30,
   "metadata": {},
   "outputs": [],
   "source": [
    "import matplotlib.pyplot as plt"
   ]
  },
  {
   "cell_type": "code",
   "execution_count": 31,
   "metadata": {},
   "outputs": [
    {
     "data": {
      "text/plain": [
       "<matplotlib.collections.PolyCollection at 0x7f6de7eb0d90>"
      ]
     },
     "execution_count": 31,
     "metadata": {},
     "output_type": "execute_result"
    },
    {
     "data": {
      "image/png": "[encoded data removed]",
      "text/plain": [
       "<Figure size 432x288 with 1 Axes>"
      ]
     },
     "metadata": {
      "needs_background": "light"
     },
     "output_type": "display_data"
    }
   ],
   "source": [
    "plt.pcolor(z)"
   ]
  },
  {
   "cell_type": "code",
   "execution_count": 32,
   "metadata": {},
   "outputs": [
    {
     "data": {
      "text/plain": [
       "<matplotlib.collections.PolyCollection at 0x7f6de86946a0>"
      ]
     },
     "execution_count": 32,
     "metadata": {},
     "output_type": "execute_result"
    },
    {
     "data": {
      "image/png": "[encoded data removed]",
      "text/plain": [
       "<Figure size 432x288 with 1 Axes>"
      ]
     },
     "metadata": {
      "needs_background": "light"
     },
     "output_type": "display_data"
    }
   ],
   "source": [
    "plt.pcolor(z_masked)"
   ]
  },
  {
   "cell_type": "markdown",
   "metadata": {},
   "source": [
    "## Functions"
   ]
  },
  {
   "cell_type": "code",
   "execution_count": 33,
   "metadata": {},
   "outputs": [
    {
     "name": "stdout",
     "output_type": "stream",
     "text": [
      "25\n",
      "15\n",
      "15\n",
      "[2.5 2.5 2.5 ... 2.5 2.5 2.5]\n"
     ]
    }
   ],
   "source": [
    "def multiply_constant(x, constant = 5):\n",
    "    return x * constant\n",
    "\n",
    "print(multiply_constant(5))\n",
    "print(multiply_constant(5, 3))\n",
    "print(multiply_constant(x = 5, constant = 3))\n",
    "print(multiply_constant(a, constant = 2.5))"
   ]
  },
  {
   "cell_type": "markdown",
   "metadata": {},
   "source": [
    "# Data visualization"
   ]
  },
  {
   "cell_type": "markdown",
   "metadata": {},
   "source": [
    "## 1D Plot"
   ]
  },
  {
   "cell_type": "code",
   "execution_count": 34,
   "metadata": {},
   "outputs": [
    {
     "data": {
      "text/plain": [
       "<matplotlib.legend.Legend at 0x7f6e101bdd60>"
      ]
     },
     "execution_count": 34,
     "metadata": {},
     "output_type": "execute_result"
    },
    {
     "data": {
      "image/png": "[encoded data removed]",
      "text/plain": [
       "<Figure size 432x288 with 1 Axes>"
      ]
     },
     "metadata": {
      "needs_background": "light"
     },
     "output_type": "display_data"
    }
   ],
   "source": [
    "import numpy as np\n",
    "import matplotlib.pyplot as plt\n",
    "import pandas as pd\n",
    "\n",
    "x = np.arange(0,300) # Numbers from 0 to 30 (30 not included)\n",
    "y = np.sin(np.arange(0,300)) + np.random.normal(0,5,300) # Create sinus\n",
    "                                                       ##signal and add noise\n",
    "\n",
    "dataFrame = pd.DataFrame({'Intervals': x,\n",
    "                         'values': y})    \n",
    "\n",
    "rolling_mean = dataFrame['values'].rolling(10, min_periods=1, center=True).mean()\n",
    "\n",
    "plt.plot(x,y,label='Kurve', alpha=0.5)\n",
    "plt.plot(x, rolling_mean.values, label = 'Rolling Mean')\n",
    "plt.title('Sinus + Random')\n",
    "plt.xlabel('Interval')\n",
    "plt.ylabel('Values')\n",
    "plt.legend()"
   ]
  },
  {
   "cell_type": "markdown",
   "metadata": {},
   "source": [
    "## 2D Plots"
   ]
  },
  {
   "cell_type": "code",
   "execution_count": 35,
   "metadata": {},
   "outputs": [
    {
     "data": {
      "text/plain": [
       "<matplotlib.colorbar.Colorbar at 0x7f6de59b43a0>"
      ]
     },
     "execution_count": 35,
     "metadata": {},
     "output_type": "execute_result"
    },
    {
     "data": {
      "image/png": "[encoded data removed]",
      "text/plain": [
       "<Figure size 432x288 with 2 Axes>"
      ]
     },
     "metadata": {
      "needs_background": "light"
     },
     "output_type": "display_data"
    }
   ],
   "source": [
    "z = np.random.rand(20,20)\n",
    "\n",
    "levels = np.linspace(0, 1, 10)\n",
    "f, ax = plt.subplots(1)\n",
    "im = ax.pcolor(z)\n",
    "#im = ax.contourf(z, levels = levels)\n",
    "#ax.contour(z)\n",
    "ax.set_title('Random Noise from 0 - 1')\n",
    "f.colorbar(im)"
   ]
  },
  {
   "cell_type": "markdown",
   "metadata": {},
   "source": [
    "# netCDF4-files"
   ]
  },
  {
   "cell_type": "code",
   "execution_count": 37,
   "metadata": {},
   "outputs": [],
   "source": [
    "import xarray as xr\n",
    "\n",
    "url = \"https://ds.nccs.nasa.gov/thredds/dodsC/CMIP5/ESGF/GISS/rcp45/E2-R_rcp45_r6i1p3_day/tos_day_GISS-E2-R_rcp45_r6i1p3_20910101-21001231.nc\"\n",
    "\n",
    "ds = xr.open_dataset(url)"
   ]
  },
  {
   "cell_type": "code",
   "execution_count": 38,
   "metadata": {},
   "outputs": [
    {
     "data": {
      "text/html": [
       "<div><svg style=\"position: absolute; width: 0; height: 0; overflow: hidden\">\n",
       "<defs>\n",
       "<symbol id=\"icon-database\" viewBox=\"0 0 32 32\">\n",
       "<title>Show/Hide data repr</title>\n",
       "<path d=\"M16 0c-8.837 0-16 2.239-16 5v4c0 2.761 7.163 5 16 5s16-2.239 16-5v-4c0-2.761-7.163-5-16-5z\"></path>\n",
       "<path d=\"M16 17c-8.837 0-16-2.239-16-5v6c0 2.761 7.163 5 16 5s16-2.239 16-5v-6c0 2.761-7.163 5-16 5z\"></path>\n",
       "<path d=\"M16 26c-8.837 0-16-2.239-16-5v6c0 2.761 7.163 5 16 5s16-2.239 16-5v-6c0 2.761-7.163 5-16 5z\"></path>\n",
       "</symbol>\n",
       "<symbol id=\"icon-file-text2\" viewBox=\"0 0 32 32\">\n",
       "<title>Show/Hide attributes</title>\n",
       "<path d=\"M28.681 7.159c-0.694-0.947-1.662-2.053-2.724-3.116s-2.169-2.030-3.116-2.724c-1.612-1.182-2.393-1.319-2.841-1.319h-15.5c-1.378 0-2.5 1.121-2.5 2.5v27c0 1.378 1.122 2.5 2.5 2.5h23c1.378 0 2.5-1.122 2.5-2.5v-19.5c0-0.448-0.137-1.23-1.319-2.841zM24.543 5.457c0.959 0.959 1.712 1.825 2.268 2.543h-4.811v-4.811c0.718 0.556 1.584 1.309 2.543 2.268zM28 29.5c0 0.271-0.229 0.5-0.5 0.5h-23c-0.271 0-0.5-0.229-0.5-0.5v-27c0-0.271 0.229-0.5 0.5-0.5 0 0 15.499-0 15.5 0v7c0 0.552 0.448 1 1 1h7v19.5z\"></path>\n",
       "<path d=\"M23 26h-14c-0.552 0-1-0.448-1-1s0.448-1 1-1h14c0.552 0 1 0.448 1 1s-0.448 1-1 1z\"></path>\n",
       "<path d=\"M23 22h-14c-0.552 0-1-0.448-1-1s0.448-1 1-1h14c0.552 0 1 0.448 1 1s-0.448 1-1 1z\"></path>\n",
       "<path d=\"M23 18h-14c-0.552 0-1-0.448-1-1s0.448-1 1-1h14c0.552 0 1 0.448 1 1s-0.448 1-1 1z\"></path>\n",
       "</symbol>\n",
       "</defs>\n",
       "</svg>\n",
       "<style>/* CSS stylesheet for displaying xarray objects in jupyterlab.\n",
       " *\n",
       " */\n",
       "\n",
       ":root {\n",
       "  --xr-font-color0: var(--jp-content-font-color0, rgba(0, 0, 0, 1));\n",
       "  --xr-font-color2: var(--jp-content-font-color2, rgba(0, 0, 0, 0.54));\n",
       "  --xr-font-color3: var(--jp-content-font-color3, rgba(0, 0, 0, 0.38));\n",
       "  --xr-border-color: var(--jp-border-color2, #e0e0e0);\n",
       "  --xr-disabled-color: var(--jp-layout-color3, #bdbdbd);\n",
       "  --xr-background-color: var(--jp-layout-color0, white);\n",
       "  --xr-background-color-row-even: var(--jp-layout-color1, white);\n",
       "  --xr-background-color-row-odd: var(--jp-layout-color2, #eeeeee);\n",
       "}\n",
       "\n",
       ".xr-wrap {\n",
       "  min-width: 300px;\n",
       "  max-width: 700px;\n",
       "}\n",
       "\n",
       ".xr-header {\n",
       "  padding-top: 6px;\n",
       "  padding-bottom: 6px;\n",
       "  margin-bottom: 4px;\n",
       "  border-bottom: solid 1px var(--xr-border-color);\n",
       "}\n",
       "\n",
       ".xr-header > div,\n",
       ".xr-header > ul {\n",
       "  display: inline;\n",
       "  margin-top: 0;\n",
       "  margin-bottom: 0;\n",
       "}\n",
       "\n",
       ".xr-obj-type,\n",
       ".xr-array-name {\n",
       "  margin-left: 2px;\n",
       "  margin-right: 10px;\n",
       "}\n",
       "\n",
       ".xr-obj-type {\n",
       "  color: var(--xr-font-color2);\n",
       "}\n",
       "\n",
       ".xr-sections {\n",
       "  padding-left: 0 !important;\n",
       "  display: grid;\n",
       "  grid-template-columns: 150px auto auto 1fr 20px 20px;\n",
       "}\n",
       "\n",
       ".xr-section-item {\n",
       "  display: contents;\n",
       "}\n",
       "\n",
       ".xr-section-item input {\n",
       "  display: none;\n",
       "}\n",
       "\n",
       ".xr-section-item input + label {\n",
       "  color: var(--xr-disabled-color);\n",
       "}\n",
       "\n",
       ".xr-section-item input:enabled + label {\n",
       "  cursor: pointer;\n",
       "  color: var(--xr-font-color2);\n",
       "}\n",
       "\n",
       ".xr-section-item input:enabled + label:hover {\n",
       "  color: var(--xr-font-color0);\n",
       "}\n",
       "\n",
       ".xr-section-summary {\n",
       "  grid-column: 1;\n",
       "  color: var(--xr-font-color2);\n",
       "  font-weight: 500;\n",
       "}\n",
       "\n",
       ".xr-section-summary > span {\n",
       "  display: inline-block;\n",
       "  padding-left: 0.5em;\n",
       "}\n",
       "\n",
       ".xr-section-summary-in:disabled + label {\n",
       "  color: var(--xr-font-color2);\n",
       "}\n",
       "\n",
       ".xr-section-summary-in + label:before {\n",
       "  display: inline-block;\n",
       "  content: '►';\n",
       "  font-size: 11px;\n",
       "  width: 15px;\n",
       "  text-align: center;\n",
       "}\n",
       "\n",
       ".xr-section-summary-in:disabled + label:before {\n",
       "  color: var(--xr-disabled-color);\n",
       "}\n",
       "\n",
       ".xr-section-summary-in:checked + label:before {\n",
       "  content: '▼';\n",
       "}\n",
       "\n",
       ".xr-section-summary-in:checked + label > span {\n",
       "  display: none;\n",
       "}\n",
       "\n",
       ".xr-section-summary,\n",
       ".xr-section-inline-details {\n",
       "  padding-top: 4px;\n",
       "  padding-bottom: 4px;\n",
       "}\n",
       "\n",
       ".xr-section-inline-details {\n",
       "  grid-column: 2 / -1;\n",
       "}\n",
       "\n",
       ".xr-section-details {\n",
       "  display: none;\n",
       "  grid-column: 1 / -1;\n",
       "  margin-bottom: 5px;\n",
       "}\n",
       "\n",
       ".xr-section-summary-in:checked ~ .xr-section-details {\n",
       "  display: contents;\n",
       "}\n",
       "\n",
       ".xr-array-wrap {\n",
       "  grid-column: 1 / -1;\n",
       "  display: grid;\n",
       "  grid-template-columns: 20px auto;\n",
       "}\n",
       "\n",
       ".xr-array-wrap > label {\n",
       "  grid-column: 1;\n",
       "  vertical-align: top;\n",
       "}\n",
       "\n",
       ".xr-preview {\n",
       "  color: var(--xr-font-color3);\n",
       "}\n",
       "\n",
       ".xr-array-preview,\n",
       ".xr-array-data {\n",
       "  padding: 0 5px !important;\n",
       "  grid-column: 2;\n",
       "}\n",
       "\n",
       ".xr-array-data,\n",
       ".xr-array-in:checked ~ .xr-array-preview {\n",
       "  display: none;\n",
       "}\n",
       "\n",
       ".xr-array-in:checked ~ .xr-array-data,\n",
       ".xr-array-preview {\n",
       "  display: inline-block;\n",
       "}\n",
       "\n",
       ".xr-dim-list {\n",
       "  display: inline-block !important;\n",
       "  list-style: none;\n",
       "  padding: 0 !important;\n",
       "  margin: 0;\n",
       "}\n",
       "\n",
       ".xr-dim-list li {\n",
       "  display: inline-block;\n",
       "  padding: 0;\n",
       "  margin: 0;\n",
       "}\n",
       "\n",
       ".xr-dim-list:before {\n",
       "  content: '(';\n",
       "}\n",
       "\n",
       ".xr-dim-list:after {\n",
       "  content: ')';\n",
       "}\n",
       "\n",
       ".xr-dim-list li:not(:last-child):after {\n",
       "  content: ',';\n",
       "  padding-right: 5px;\n",
       "}\n",
       "\n",
       ".xr-has-index {\n",
       "  font-weight: bold;\n",
       "}\n",
       "\n",
       ".xr-var-list,\n",
       ".xr-var-item {\n",
       "  display: contents;\n",
       "}\n",
       "\n",
       ".xr-var-item > div,\n",
       ".xr-var-item label,\n",
       ".xr-var-item > .xr-var-name span {\n",
       "  background-color: var(--xr-background-color-row-even);\n",
       "  margin-bottom: 0;\n",
       "}\n",
       "\n",
       ".xr-var-item > .xr-var-name:hover span {\n",
       "  padding-right: 5px;\n",
       "}\n",
       "\n",
       ".xr-var-list > li:nth-child(odd) > div,\n",
       ".xr-var-list > li:nth-child(odd) > label,\n",
       ".xr-var-list > li:nth-child(odd) > .xr-var-name span {\n",
       "  background-color: var(--xr-background-color-row-odd);\n",
       "}\n",
       "\n",
       ".xr-var-name {\n",
       "  grid-column: 1;\n",
       "}\n",
       "\n",
       ".xr-var-dims {\n",
       "  grid-column: 2;\n",
       "}\n",
       "\n",
       ".xr-var-dtype {\n",
       "  grid-column: 3;\n",
       "  text-align: right;\n",
       "  color: var(--xr-font-color2);\n",
       "}\n",
       "\n",
       ".xr-var-preview {\n",
       "  grid-column: 4;\n",
       "}\n",
       "\n",
       ".xr-var-name,\n",
       ".xr-var-dims,\n",
       ".xr-var-dtype,\n",
       ".xr-preview,\n",
       ".xr-attrs dt {\n",
       "  white-space: nowrap;\n",
       "  overflow: hidden;\n",
       "  text-overflow: ellipsis;\n",
       "  padding-right: 10px;\n",
       "}\n",
       "\n",
       ".xr-var-name:hover,\n",
       ".xr-var-dims:hover,\n",
       ".xr-var-dtype:hover,\n",
       ".xr-attrs dt:hover {\n",
       "  overflow: visible;\n",
       "  width: auto;\n",
       "  z-index: 1;\n",
       "}\n",
       "\n",
       ".xr-var-attrs,\n",
       ".xr-var-data {\n",
       "  display: none;\n",
       "  background-color: var(--xr-background-color) !important;\n",
       "  padding-bottom: 5px !important;\n",
       "}\n",
       "\n",
       ".xr-var-attrs-in:checked ~ .xr-var-attrs,\n",
       ".xr-var-data-in:checked ~ .xr-var-data {\n",
       "  display: block;\n",
       "}\n",
       "\n",
       ".xr-var-data > table {\n",
       "  float: right;\n",
       "}\n",
       "\n",
       ".xr-var-name span,\n",
       ".xr-var-data,\n",
       ".xr-attrs {\n",
       "  padding-left: 25px !important;\n",
       "}\n",
       "\n",
       ".xr-attrs,\n",
       ".xr-var-attrs,\n",
       ".xr-var-data {\n",
       "  grid-column: 1 / -1;\n",
       "}\n",
       "\n",
       "dl.xr-attrs {\n",
       "  padding: 0;\n",
       "  margin: 0;\n",
       "  display: grid;\n",
       "  grid-template-columns: 125px auto;\n",
       "}\n",
       "\n",
       ".xr-attrs dt, dd {\n",
       "  padding: 0;\n",
       "  margin: 0;\n",
       "  float: left;\n",
       "  padding-right: 10px;\n",
       "  width: auto;\n",
       "}\n",
       "\n",
       ".xr-attrs dt {\n",
       "  font-weight: normal;\n",
       "  grid-column: 1;\n",
       "}\n",
       "\n",
       ".xr-attrs dt:hover span {\n",
       "  display: inline-block;\n",
       "  background: var(--xr-background-color);\n",
       "  padding-right: 10px;\n",
       "}\n",
       "\n",
       ".xr-attrs dd {\n",
       "  grid-column: 2;\n",
       "  white-space: pre-wrap;\n",
       "  word-break: break-all;\n",
       "}\n",
       "\n",
       ".xr-icon-database,\n",
       ".xr-icon-file-text2 {\n",
       "  display: inline-block;\n",
       "  vertical-align: middle;\n",
       "  width: 1em;\n",
       "  height: 1.5em !important;\n",
       "  stroke-width: 0;\n",
       "  stroke: currentColor;\n",
       "  fill: currentColor;\n",
       "}\n",
       "</style><div class='xr-wrap'><div class='xr-header'><div class='xr-obj-type'>xarray.Dataset</div></div><ul class='xr-sections'><li class='xr-section-item'><input id='section-6f36b5ae-6497-4d52-a0a3-807a51c687b0' class='xr-section-summary-in' type='checkbox' disabled ><label for='section-6f36b5ae-6497-4d52-a0a3-807a51c687b0' class='xr-section-summary'  title='Expand/collapse section'>Dimensions:</label><div class='xr-section-inline-details'><ul class='xr-dim-list'><li><span>bnds</span>: 2</li><li><span class='xr-has-index'>lat</span>: 90</li><li><span class='xr-has-index'>lon</span>: 144</li></ul></div><div class='xr-section-details'></div></li><li class='xr-section-item'><input id='section-f46d7ee0-ac49-4f55-b498-8fff06574c85' class='xr-section-summary-in' type='checkbox'  checked><label for='section-f46d7ee0-ac49-4f55-b498-8fff06574c85' class='xr-section-summary' >Coordinates: <span>(3)</span></label><div class='xr-section-inline-details'></div><div class='xr-section-details'><ul class='xr-var-list'><li class='xr-var-item'><div class='xr-var-name'><span>time</span></div><div class='xr-var-dims'>()</div><div class='xr-var-dtype'>object</div><div class='xr-var-preview xr-preview'>2091-01-02 12:00:00</div><input id='attrs-9430d7d2-79b8-4be8-8eba-509d9ddcad70' class='xr-var-attrs-in' type='checkbox' ><label for='attrs-9430d7d2-79b8-4be8-8eba-509d9ddcad70' title='Show/Hide attributes'><svg class='icon xr-icon-file-text2'><use xlink:href='#icon-file-text2'></use></svg></label><input id='data-e0eb2bd6-7233-40f7-a20c-c8008cfdb3f7' class='xr-var-data-in' type='checkbox'><label for='data-e0eb2bd6-7233-40f7-a20c-c8008cfdb3f7' title='Show/Hide data repr'><svg class='icon xr-icon-database'><use xlink:href='#icon-database'></use></svg></label><div class='xr-var-attrs'><dl class='xr-attrs'><dt><span>bounds :</span></dt><dd>time_bnds</dd><dt><span>axis :</span></dt><dd>T</dd><dt><span>long_name :</span></dt><dd>time</dd><dt><span>standard_name :</span></dt><dd>time</dd></dl></div><pre class='xr-var-data'>array(cftime.DatetimeNoLeap(2091-01-02 12:00:00), dtype=object)</pre></li><li class='xr-var-item'><div class='xr-var-name'><span class='xr-has-index'>lat</span></div><div class='xr-var-dims'>(lat)</div><div class='xr-var-dtype'>float64</div><div class='xr-var-preview xr-preview'>-89.0 -87.0 -85.0 ... 87.0 89.0</div><input id='attrs-e9973f3b-d4f6-4267-a122-556858764118' class='xr-var-attrs-in' type='checkbox' ><label for='attrs-e9973f3b-d4f6-4267-a122-556858764118' title='Show/Hide attributes'><svg class='icon xr-icon-file-text2'><use xlink:href='#icon-file-text2'></use></svg></label><input id='data-cb0f020f-a738-4371-9d49-a2d31444f93e' class='xr-var-data-in' type='checkbox'><label for='data-cb0f020f-a738-4371-9d49-a2d31444f93e' title='Show/Hide data repr'><svg class='icon xr-icon-database'><use xlink:href='#icon-database'></use></svg></label><div class='xr-var-attrs'><dl class='xr-attrs'><dt><span>bounds :</span></dt><dd>lat_bnds</dd><dt><span>units :</span></dt><dd>degrees_north</dd><dt><span>axis :</span></dt><dd>Y</dd><dt><span>long_name :</span></dt><dd>latitude</dd><dt><span>standard_name :</span></dt><dd>latitude</dd></dl></div><pre class='xr-var-data'>array([-89., -87., -85., -83., -81., -79., -77., -75., -73., -71., -69., -67.,\n",
       "       -65., -63., -61., -59., -57., -55., -53., -51., -49., -47., -45., -43.,\n",
       "       -41., -39., -37., -35., -33., -31., -29., -27., -25., -23., -21., -19.,\n",
       "       -17., -15., -13., -11.,  -9.,  -7.,  -5.,  -3.,  -1.,   1.,   3.,   5.,\n",
       "         7.,   9.,  11.,  13.,  15.,  17.,  19.,  21.,  23.,  25.,  27.,  29.,\n",
       "        31.,  33.,  35.,  37.,  39.,  41.,  43.,  45.,  47.,  49.,  51.,  53.,\n",
       "        55.,  57.,  59.,  61.,  63.,  65.,  67.,  69.,  71.,  73.,  75.,  77.,\n",
       "        79.,  81.,  83.,  85.,  87.,  89.])</pre></li><li class='xr-var-item'><div class='xr-var-name'><span class='xr-has-index'>lon</span></div><div class='xr-var-dims'>(lon)</div><div class='xr-var-dtype'>float64</div><div class='xr-var-preview xr-preview'>1.25 3.75 6.25 ... 356.2 358.8</div><input id='attrs-e785e73e-86cf-4f68-9b39-9c7dea6bcaed' class='xr-var-attrs-in' type='checkbox' ><label for='attrs-e785e73e-86cf-4f68-9b39-9c7dea6bcaed' title='Show/Hide attributes'><svg class='icon xr-icon-file-text2'><use xlink:href='#icon-file-text2'></use></svg></label><input id='data-0648d17e-5314-4bb8-ab89-671589c62b66' class='xr-var-data-in' type='checkbox'><label for='data-0648d17e-5314-4bb8-ab89-671589c62b66' title='Show/Hide data repr'><svg class='icon xr-icon-database'><use xlink:href='#icon-database'></use></svg></label><div class='xr-var-attrs'><dl class='xr-attrs'><dt><span>bounds :</span></dt><dd>lon_bnds</dd><dt><span>units :</span></dt><dd>degrees_east</dd><dt><span>axis :</span></dt><dd>X</dd><dt><span>long_name :</span></dt><dd>longitude</dd><dt><span>standard_name :</span></dt><dd>longitude</dd></dl></div><pre class='xr-var-data'>array([  1.25,   3.75,   6.25,   8.75,  11.25,  13.75,  16.25,  18.75,  21.25,\n",
       "        23.75,  26.25,  28.75,  31.25,  33.75,  36.25,  38.75,  41.25,  43.75,\n",
       "        46.25,  48.75,  51.25,  53.75,  56.25,  58.75,  61.25,  63.75,  66.25,\n",
       "        68.75,  71.25,  73.75,  76.25,  78.75,  81.25,  83.75,  86.25,  88.75,\n",
       "        91.25,  93.75,  96.25,  98.75, 101.25, 103.75, 106.25, 108.75, 111.25,\n",
       "       113.75, 116.25, 118.75, 121.25, 123.75, 126.25, 128.75, 131.25, 133.75,\n",
       "       136.25, 138.75, 141.25, 143.75, 146.25, 148.75, 151.25, 153.75, 156.25,\n",
       "       158.75, 161.25, 163.75, 166.25, 168.75, 171.25, 173.75, 176.25, 178.75,\n",
       "       181.25, 183.75, 186.25, 188.75, 191.25, 193.75, 196.25, 198.75, 201.25,\n",
       "       203.75, 206.25, 208.75, 211.25, 213.75, 216.25, 218.75, 221.25, 223.75,\n",
       "       226.25, 228.75, 231.25, 233.75, 236.25, 238.75, 241.25, 243.75, 246.25,\n",
       "       248.75, 251.25, 253.75, 256.25, 258.75, 261.25, 263.75, 266.25, 268.75,\n",
       "       271.25, 273.75, 276.25, 278.75, 281.25, 283.75, 286.25, 288.75, 291.25,\n",
       "       293.75, 296.25, 298.75, 301.25, 303.75, 306.25, 308.75, 311.25, 313.75,\n",
       "       316.25, 318.75, 321.25, 323.75, 326.25, 328.75, 331.25, 333.75, 336.25,\n",
       "       338.75, 341.25, 343.75, 346.25, 348.75, 351.25, 353.75, 356.25, 358.75])</pre></li></ul></div></li><li class='xr-section-item'><input id='section-eb734817-e354-4bba-890b-04b99d98423a' class='xr-section-summary-in' type='checkbox'  checked><label for='section-eb734817-e354-4bba-890b-04b99d98423a' class='xr-section-summary' >Data variables: <span>(4)</span></label><div class='xr-section-inline-details'></div><div class='xr-section-details'><ul class='xr-var-list'><li class='xr-var-item'><div class='xr-var-name'><span>time_bnds</span></div><div class='xr-var-dims'>(bnds)</div><div class='xr-var-dtype'>object</div><div class='xr-var-preview xr-preview'>...</div><input id='attrs-6df916d2-8c2c-42e6-bec0-4629560ffe1f' class='xr-var-attrs-in' type='checkbox' disabled><label for='attrs-6df916d2-8c2c-42e6-bec0-4629560ffe1f' title='Show/Hide attributes'><svg class='icon xr-icon-file-text2'><use xlink:href='#icon-file-text2'></use></svg></label><input id='data-98ff0702-72a5-45d4-bdf0-2b7f68d9370f' class='xr-var-data-in' type='checkbox'><label for='data-98ff0702-72a5-45d4-bdf0-2b7f68d9370f' title='Show/Hide data repr'><svg class='icon xr-icon-database'><use xlink:href='#icon-database'></use></svg></label><div class='xr-var-attrs'><dl class='xr-attrs'></dl></div><pre class='xr-var-data'>array([cftime.DatetimeNoLeap(2091-01-02 00:00:00),\n",
       "       cftime.DatetimeNoLeap(2091-01-03 00:00:00)], dtype=object)</pre></li><li class='xr-var-item'><div class='xr-var-name'><span>lat_bnds</span></div><div class='xr-var-dims'>(lat, bnds)</div><div class='xr-var-dtype'>float64</div><div class='xr-var-preview xr-preview'>...</div><input id='attrs-27265705-e816-49a1-b835-240896885abb' class='xr-var-attrs-in' type='checkbox' disabled><label for='attrs-27265705-e816-49a1-b835-240896885abb' title='Show/Hide attributes'><svg class='icon xr-icon-file-text2'><use xlink:href='#icon-file-text2'></use></svg></label><input id='data-04e419a9-1335-4a2e-8b91-e976f1dca53e' class='xr-var-data-in' type='checkbox'><label for='data-04e419a9-1335-4a2e-8b91-e976f1dca53e' title='Show/Hide data repr'><svg class='icon xr-icon-database'><use xlink:href='#icon-database'></use></svg></label><div class='xr-var-attrs'><dl class='xr-attrs'></dl></div><pre class='xr-var-data'>array([[-90., -88.],\n",
       "       [-88., -86.],\n",
       "       [-86., -84.],\n",
       "       [-84., -82.],\n",
       "       [-82., -80.],\n",
       "       [-80., -78.],\n",
       "       [-78., -76.],\n",
       "       [-76., -74.],\n",
       "       [-74., -72.],\n",
       "       [-72., -70.],\n",
       "       [-70., -68.],\n",
       "       [-68., -66.],\n",
       "       [-66., -64.],\n",
       "       [-64., -62.],\n",
       "       [-62., -60.],\n",
       "       [-60., -58.],\n",
       "       [-58., -56.],\n",
       "       [-56., -54.],\n",
       "       [-54., -52.],\n",
       "       [-52., -50.],\n",
       "       [-50., -48.],\n",
       "       [-48., -46.],\n",
       "       [-46., -44.],\n",
       "       [-44., -42.],\n",
       "       [-42., -40.],\n",
       "       [-40., -38.],\n",
       "       [-38., -36.],\n",
       "       [-36., -34.],\n",
       "       [-34., -32.],\n",
       "       [-32., -30.],\n",
       "       [-30., -28.],\n",
       "       [-28., -26.],\n",
       "       [-26., -24.],\n",
       "       [-24., -22.],\n",
       "       [-22., -20.],\n",
       "       [-20., -18.],\n",
       "       [-18., -16.],\n",
       "       [-16., -14.],\n",
       "       [-14., -12.],\n",
       "       [-12., -10.],\n",
       "       [-10.,  -8.],\n",
       "       [ -8.,  -6.],\n",
       "       [ -6.,  -4.],\n",
       "       [ -4.,  -2.],\n",
       "       [ -2.,   0.],\n",
       "       [  0.,   2.],\n",
       "       [  2.,   4.],\n",
       "       [  4.,   6.],\n",
       "       [  6.,   8.],\n",
       "       [  8.,  10.],\n",
       "       [ 10.,  12.],\n",
       "       [ 12.,  14.],\n",
       "       [ 14.,  16.],\n",
       "       [ 16.,  18.],\n",
       "       [ 18.,  20.],\n",
       "       [ 20.,  22.],\n",
       "       [ 22.,  24.],\n",
       "       [ 24.,  26.],\n",
       "       [ 26.,  28.],\n",
       "       [ 28.,  30.],\n",
       "       [ 30.,  32.],\n",
       "       [ 32.,  34.],\n",
       "       [ 34.,  36.],\n",
       "       [ 36.,  38.],\n",
       "       [ 38.,  40.],\n",
       "       [ 40.,  42.],\n",
       "       [ 42.,  44.],\n",
       "       [ 44.,  46.],\n",
       "       [ 46.,  48.],\n",
       "       [ 48.,  50.],\n",
       "       [ 50.,  52.],\n",
       "       [ 52.,  54.],\n",
       "       [ 54.,  56.],\n",
       "       [ 56.,  58.],\n",
       "       [ 58.,  60.],\n",
       "       [ 60.,  62.],\n",
       "       [ 62.,  64.],\n",
       "       [ 64.,  66.],\n",
       "       [ 66.,  68.],\n",
       "       [ 68.,  70.],\n",
       "       [ 70.,  72.],\n",
       "       [ 72.,  74.],\n",
       "       [ 74.,  76.],\n",
       "       [ 76.,  78.],\n",
       "       [ 78.,  80.],\n",
       "       [ 80.,  82.],\n",
       "       [ 82.,  84.],\n",
       "       [ 84.,  86.],\n",
       "       [ 86.,  88.],\n",
       "       [ 88.,  90.]])</pre></li><li class='xr-var-item'><div class='xr-var-name'><span>lon_bnds</span></div><div class='xr-var-dims'>(lon, bnds)</div><div class='xr-var-dtype'>float64</div><div class='xr-var-preview xr-preview'>...</div><input id='attrs-547f835b-bc7d-46ba-b335-a8657fa6e874' class='xr-var-attrs-in' type='checkbox' disabled><label for='attrs-547f835b-bc7d-46ba-b335-a8657fa6e874' title='Show/Hide attributes'><svg class='icon xr-icon-file-text2'><use xlink:href='#icon-file-text2'></use></svg></label><input id='data-3e9a4f91-77cd-49fa-8085-a3b12e7c6229' class='xr-var-data-in' type='checkbox'><label for='data-3e9a4f91-77cd-49fa-8085-a3b12e7c6229' title='Show/Hide data repr'><svg class='icon xr-icon-database'><use xlink:href='#icon-database'></use></svg></label><div class='xr-var-attrs'><dl class='xr-attrs'></dl></div><pre class='xr-var-data'>array([[  0. ,   2.5],\n",
       "       [  2.5,   5. ],\n",
       "       [  5. ,   7.5],\n",
       "       ...,\n",
       "       [352.5, 355. ],\n",
       "       [355. , 357.5],\n",
       "       [357.5, 360. ]])</pre></li><li class='xr-var-item'><div class='xr-var-name'><span>tos</span></div><div class='xr-var-dims'>(lat, lon)</div><div class='xr-var-dtype'>float32</div><div class='xr-var-preview xr-preview'>...</div><input id='attrs-c3e72a2e-550d-4966-8f62-f8d0faf37fa0' class='xr-var-attrs-in' type='checkbox' ><label for='attrs-c3e72a2e-550d-4966-8f62-f8d0faf37fa0' title='Show/Hide attributes'><svg class='icon xr-icon-file-text2'><use xlink:href='#icon-file-text2'></use></svg></label><input id='data-05ab44c7-056d-4cc9-9164-c203fca8bf62' class='xr-var-data-in' type='checkbox'><label for='data-05ab44c7-056d-4cc9-9164-c203fca8bf62' title='Show/Hide data repr'><svg class='icon xr-icon-database'><use xlink:href='#icon-database'></use></svg></label><div class='xr-var-attrs'><dl class='xr-attrs'><dt><span>standard_name :</span></dt><dd>surface_temperature</dd><dt><span>long_name :</span></dt><dd>Sea Surface Temperature</dd><dt><span>comment :</span></dt><dd>temperature of liquid ocean.  Note that the correct standard_name for this variable is &quot;&quot;sea_surface_temperature&quot;&quot;, not &quot;&quot;surface_temperature&quot;&quot;, but this was discovered too late to correct.  To maintain consistency across CMIP5 models, the wrong standard_name will continue to be used.</dd><dt><span>units :</span></dt><dd>K</dd><dt><span>original_name :</span></dt><dd>dummy</dd><dt><span>cell_methods :</span></dt><dd>time: mean</dd><dt><span>cell_measures :</span></dt><dd>area: areacello</dd><dt><span>history :</span></dt><dd>2012-09-27T15:35:07Z altered by CMOR: replaced missing value flag (-1e+30) with standard missing value (1e+20).</dd><dt><span>associated_files :</span></dt><dd>baseURL: http://cmip-pcmdi.llnl.gov/CMIP5/dataLocation gridspecFile: gridspec_ocean_fx_GISS-E2-R_rcp45_r0i0p0.nc areacello: areacello_fx_GISS-E2-R_rcp45_r0i0p0.nc</dd></dl></div><pre class='xr-var-data'>array([[      nan,       nan,       nan, ...,       nan,       nan,       nan],\n",
       "       [      nan,       nan,       nan, ...,       nan,       nan,       nan],\n",
       "       [      nan,       nan,       nan, ...,       nan,       nan,       nan],\n",
       "       ...,\n",
       "       [271.45233, 271.45172, 271.49725, ..., 271.50067, 271.48697, 271.47012],\n",
       "       [271.5155 , 271.50873, 271.50183, ..., 271.53275, 271.52777, 271.5219 ],\n",
       "       [271.56015, 271.56015, 271.56015, ..., 271.56015, 271.56015, 271.56015]],\n",
       "      dtype=float32)</pre></li></ul></div></li><li class='xr-section-item'><input id='section-0037ab9a-9c1b-4bb6-992e-c3626243d176' class='xr-section-summary-in' type='checkbox'  ><label for='section-0037ab9a-9c1b-4bb6-992e-c3626243d176' class='xr-section-summary' >Attributes: <span>(28)</span></label><div class='xr-section-inline-details'></div><div class='xr-section-details'><dl class='xr-attrs'><dt><span>institution :</span></dt><dd>NASA/GISS (Goddard Institute for Space Studies) New York, NY</dd><dt><span>institute_id :</span></dt><dd>NASA-GISS</dd><dt><span>experiment_id :</span></dt><dd>rcp45</dd><dt><span>source :</span></dt><dd>GISS-E2-R-E134TcadiRCP45fF40oQ32 Atmosphere: GISS-E2; Ocean: R</dd><dt><span>model_id :</span></dt><dd>GISS-E2-R</dd><dt><span>forcing :</span></dt><dd>GHG, LU, Sl, Vl, BC, OC, SA, Oz (also includes orbital change - BC on snow - Nitrate aerosols - interactive CH4)</dd><dt><span>parent_experiment_id :</span></dt><dd>historical</dd><dt><span>parent_experiment_rip :</span></dt><dd>r6i1p3</dd><dt><span>branch_time :</span></dt><dd>2006.0</dd><dt><span>contact :</span></dt><dd>Kenneth Lo (cdkkl@giss.nasa.gov)</dd><dt><span>references :</span></dt><dd>http://data.giss.nasa.gov/modelE/ar5</dd><dt><span>initialization_method :</span></dt><dd>1</dd><dt><span>physics_version :</span></dt><dd>3</dd><dt><span>tracking_id :</span></dt><dd>b2041a15-ef72-4217-914e-fbbb361a5f72</dd><dt><span>product :</span></dt><dd>output</dd><dt><span>experiment :</span></dt><dd>RCP4.5</dd><dt><span>frequency :</span></dt><dd>day</dd><dt><span>creation_date :</span></dt><dd>2012-09-27T15:35:07Z</dd><dt><span>history :</span></dt><dd>2012-09-27T15:35:07Z CMOR rewrote data to comply with CF standards and CMIP5 requirements.</dd><dt><span>Conventions :</span></dt><dd>CF-1.4</dd><dt><span>project_id :</span></dt><dd>CMIP5</dd><dt><span>table_id :</span></dt><dd>Table day (27 April 2011) 86d1558d99b6ed1e7a886ab3fd717b58</dd><dt><span>title :</span></dt><dd>GISS-E2-R model output prepared for CMIP5 RCP4.5</dd><dt><span>parent_experiment :</span></dt><dd>historical</dd><dt><span>modeling_realm :</span></dt><dd>ocean</dd><dt><span>realization :</span></dt><dd>6</dd><dt><span>cmor_version :</span></dt><dd>2.5.7</dd><dt><span>DODS_EXTRA.Unlimited_Dimension :</span></dt><dd>time</dd></dl></div></li></ul></div></div>"
      ],
      "text/plain": [
       "<xarray.Dataset>\n",
       "Dimensions:    (bnds: 2, lat: 90, lon: 144)\n",
       "Coordinates:\n",
       "    time       object 2091-01-02 12:00:00\n",
       "  * lat        (lat) float64 -89.0 -87.0 -85.0 -83.0 ... 83.0 85.0 87.0 89.0\n",
       "  * lon        (lon) float64 1.25 3.75 6.25 8.75 ... 351.2 353.8 356.2 358.8\n",
       "Dimensions without coordinates: bnds\n",
       "Data variables:\n",
       "    time_bnds  (bnds) object ...\n",
       "    lat_bnds   (lat, bnds) float64 ...\n",
       "    lon_bnds   (lon, bnds) float64 ...\n",
       "    tos        (lat, lon) float32 ...\n",
       "Attributes:\n",
       "    institution:                     NASA/GISS (Goddard Institute for Space S...\n",
       "    institute_id:                    NASA-GISS\n",
       "    experiment_id:                   rcp45\n",
       "    source:                          GISS-E2-R-E134TcadiRCP45fF40oQ32 Atmosph...\n",
       "    model_id:                        GISS-E2-R\n",
       "    forcing:                         GHG, LU, Sl, Vl, BC, OC, SA, Oz (also in...\n",
       "    parent_experiment_id:            historical\n",
       "    parent_experiment_rip:           r6i1p3\n",
       "    branch_time:                     2006.0\n",
       "    contact:                         Kenneth Lo (cdkkl@giss.nasa.gov)\n",
       "    references:                      http://data.giss.nasa.gov/modelE/ar5\n",
       "    initialization_method:           1\n",
       "    physics_version:                 3\n",
       "    tracking_id:                     b2041a15-ef72-4217-914e-fbbb361a5f72\n",
       "    product:                         output\n",
       "    experiment:                      RCP4.5\n",
       "    frequency:                       day\n",
       "    creation_date:                   2012-09-27T15:35:07Z\n",
       "    history:                         2012-09-27T15:35:07Z CMOR rewrote data t...\n",
       "    Conventions:                     CF-1.4\n",
       "    project_id:                      CMIP5\n",
       "    table_id:                        Table day (27 April 2011) 86d1558d99b6ed...\n",
       "    title:                           GISS-E2-R model output prepared for CMIP...\n",
       "    parent_experiment:               historical\n",
       "    modeling_realm:                  ocean\n",
       "    realization:                     6\n",
       "    cmor_version:                    2.5.7\n",
       "    DODS_EXTRA.Unlimited_Dimension:  time"
      ]
     },
     "execution_count": 38,
     "metadata": {},
     "output_type": "execute_result"
    }
   ],
   "source": [
    "ds.isel(time = 1)"
   ]
  },
  {
   "cell_type": "code",
   "execution_count": 39,
   "metadata": {},
   "outputs": [
    {
     "data": {
      "text/plain": [
       "<matplotlib.collections.QuadMesh at 0x7f6de295a4f0>"
      ]
     },
     "execution_count": 39,
     "metadata": {},
     "output_type": "execute_result"
    },
    {
     "data": {
      "image/png": "[encoded data removed]",
      "text/plain": [
       "<Figure size 432x288 with 2 Axes>"
      ]
     },
     "metadata": {
      "needs_background": "light"
     },
     "output_type": "display_data"
    }
   ],
   "source": [
    "ds.isel(time = 1).tos.plot()"
   ]
  },
  {
   "cell_type": "code",
   "execution_count": 43,
   "metadata": {},
   "outputs": [],
   "source": [
    "tmp = ds.sel(lon = slice(150,200)).isel(time = slice(1,100)).tos.mean([\"lon\",\"lat\"])\n"
   ]
  },
  {
   "cell_type": "code",
   "execution_count": 46,
   "metadata": {},
   "outputs": [
    {
     "data": {
      "text/plain": [
       "[<matplotlib.lines.Line2D at 0x7f6de2770310>]"
      ]
     },
     "execution_count": 46,
     "metadata": {},
     "output_type": "execute_result"
    },
    {
     "data": {
      "image/png": "[encoded data removed]",
      "text/plain": [
       "<Figure size 432x288 with 1 Axes>"
      ]
     },
     "metadata": {
      "needs_background": "light"
     },
     "output_type": "display_data"
    }
   ],
   "source": [
    "tmp.plot()"
   ]
  },
  {
   "cell_type": "code",
   "execution_count": 45,
   "metadata": {},
   "outputs": [
    {
     "data": {
      "text/plain": [
       "[<matplotlib.lines.Line2D at 0x7f6de281cc10>]"
      ]
     },
     "execution_count": 45,
     "metadata": {},
     "output_type": "execute_result"
    },
    {
     "data": {
      "image/png": "[encoded data removed]",
      "text/plain": [
       "<Figure size 432x288 with 1 Axes>"
      ]
     },
     "metadata": {
      "needs_background": "light"
     },
     "output_type": "display_data"
    }
   ],
   "source": [
    "tmp.rolling(time = 10, min_periods =1).mean().plot()"
   ]
  }
 ],
 "metadata": {
  "kernelspec": {
   "display_name": "Python 3",
   "language": "python",
   "name": "python3"
  },
  "language_info": {
   "codemirror_mode": {
    "name": "ipython",
    "version": 3
   },
   "file_extension": ".py",
   "mimetype": "text/x-python",
   "name": "python",
   "nbconvert_exporter": "python",
   "pygments_lexer": "ipython3",
   "version": "3.8.2"
  },
  "toc": {
   "base_numbering": 1,
   "nav_menu": {},
   "number_sections": true,
   "sideBar": true,
   "skip_h1_title": false,
   "title_cell": "Table of Contents",
   "title_sidebar": "Contents",
   "toc_cell": true,
   "toc_position": {
    "height": "calc(100% - 180px)",
    "left": "10px",
    "top": "150px",
    "width": "192px"
   },
   "toc_section_display": true,
   "toc_window_display": true
  }
 },
 "nbformat": 4,
 "nbformat_minor": 4
}
