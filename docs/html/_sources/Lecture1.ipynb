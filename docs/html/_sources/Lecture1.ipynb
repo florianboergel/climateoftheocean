{
 "cells": [
  {
   "cell_type": "markdown",
   "source": [
    "**Climate of the Ocean** \\\n",
    "H. E. Markus Meier\\\n",
    "Leibniz Institute for Baltic Sea Research Warnemünde\\\n",
    "and University of Rostock\\\n",
    "Rostock, Germany\\\n",
    "E-mail: markus.meier\\@io-warnemuende.de\\\n",
    "Lecture Notes\\\n",
    "WS 2016/2017"
   ],
   "metadata": {}
  },
  {
   "cell_type": "markdown",
   "source": [
    "# Introduction to the course Climate of the ocean\n",
    "\n",
    "This lecture deals with fundamental processes in the climate system of\n",
    "the atmosphere, ocean, and sea ice. Basic methods of analysis and\n",
    "modeling of the climate system with focus on the ocean, equations of\n",
    "motion of the large-scale circulation, coupled climate models for\n",
    "atmosphere, ocean and sea ice and spatial and temporal variability of\n",
    "the large-scale circulation and the climate system will be discussed.\\\n",
    "\\\n",
    "Literature recommendations:\\\n",
    "\n",
    "-   Ulrich Cubasch: *Lecture notes*\n",
    "\n",
    "-   Dietmar Dommenget: *Lecture notes*\n",
    "\n",
    "-   James R. Holton: *An introduction to dynamic meterology*\n",
    "\n",
    "-   Geoffrey K. Vallis: *Climate and the oceans*\n",
    "\n",
    "-   Geoffrey K.Vallis: *Atmospheric and oceanic fluid dynamics*\n",
    "\n",
    "Basics of Climate\n",
    "=================\n",
    "\n",
    "see separate pdf-file\n",
    "\n",
    "The Atmosphere: a Descriptive Overview \n",
    "=======================================\n",
    "\n",
    "see separate pdf-file\n",
    "\n",
    "The Oceans: a Descriptive Overview\n",
    "==================================\n",
    "\n",
    "see separate pdf-file\n",
    "\n",
    "Basic Conservation Laws\n",
    "=======================\n",
    "\n",
    "Fundamental forces\n",
    "------------------\n",
    "\n",
    "A fluid element is an infinitesimal, indivisible piece of fluid. In the\n",
    "following, some assumptions are used:\n",
    "\n",
    "-   It contains a large number of molecules to ignore the dynamics of\n",
    "    individual molecules.\n",
    "\n",
    "-   It is small compared to the volume of the atmosphere under\n",
    "    consideration (hence all parts of the element are affected by the\n",
    "    same forces).\n",
    "\n",
    "![Scheme of a fluid parcel](Bilder/1_FluidParcel.pdf)\n",
    "\n",
    "Looking at the forces affecting the fluid parcel we use Newton's second\n",
    "law: $$m \\vec{a} = \\sum_i \\vec{F_i}$$ with the acceleration $\\vec{a}$.\n",
    "The forces $\\vec{F_i}$ in the inertial system are classified as body\n",
    "forces (e.g. gravitation), surface forces (e.g. friction, pressure\n",
    "gradient) and apparent forces in rotating coordinate systems (e.g.\n",
    "Coriolis, centrifugal force).\n"
   ],
   "metadata": {}
  },
  {
   "cell_type": "markdown",
   "source": [
    "### Gravitational force\n",
    "\n",
    "![image](Bilder/2_gravitation.pdf){width=\"35%\"}\n",
    "\n",
    "With the gravitational constant $G$ and the distance $r = a+z$ the\n",
    "gravitational force can be described as:\n",
    "\n",
    "$$\\begin{aligned}\n",
    "\\vec{F_g} = - \\frac{G M m}{r^2} \\left(\\frac{\\vec{r}}{r}\\right) \\\\\n",
    "\\vec{g} ^{\\ast} \\equiv \\frac{\\vec{F_{g}}}{m} = - \\frac{G M}{a^2 (1 + \\frac{z}{a})^2} \\left(\\frac{\\vec{r}}{r}\\right) \\end{aligned}$$\n",
    "\n",
    "$$\\begin{aligned}\n",
    "\\text{with the approximation} \\  z \\ll a  (\\text{height of the troposphere about 10 km, a = } 6.37\\cdot 10^6m)\\end{aligned}$$\n",
    "$$\\boxed{\\vec{g} ^{\\ast} \\approx \\vec{g_0} ^{\\ast}\\equiv -\\frac{G M}{a^2} \\left(\\frac{\\vec{r}}{r}\\right) }$$\n",
    "$\\rightarrow$ gravitational acceleration is constant"
   ],
   "metadata": {}
  },
  {
   "cell_type": "markdown",
   "source": [],
   "metadata": {}
  }
 ],
 "metadata": {
  "orig_nbformat": 4,
  "language_info": {
   "name": "python",
   "version": "3.9.6"
  },
  "kernelspec": {
   "name": "python3",
   "display_name": "Python 3.9.6 64-bit ('work': conda)"
  },
  "interpreter": {
   "hash": "d95efbf7a046b12faaa0bdec841d3c655b6b8a8436742d72502fbb0724582cda"
  }
 },
 "nbformat": 4,
 "nbformat_minor": 2
}